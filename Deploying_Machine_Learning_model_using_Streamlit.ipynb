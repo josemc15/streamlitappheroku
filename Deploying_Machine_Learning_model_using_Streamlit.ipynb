{
  "nbformat": 4,
  "nbformat_minor": 0,
  "metadata": {
    "colab": {
      "provenance": [],
      "collapsed_sections": [
        "_jT8iP5BSyM1"
      ],
      "authorship_tag": "ABX9TyP930+EEXoVK3M2u0Cot7VN",
      "include_colab_link": true
    },
    "kernelspec": {
      "name": "python3",
      "display_name": "Python 3"
    },
    "language_info": {
      "name": "python"
    }
  },
  "cells": [
    {
      "cell_type": "markdown",
      "metadata": {
        "id": "view-in-github",
        "colab_type": "text"
      },
      "source": [
        "<a href=\"https://colab.research.google.com/github/josemc15/streamlitappheroku/blob/main/Deploying_Machine_Learning_model_using_Streamlit.ipynb\" target=\"_parent\"><img src=\"https://colab.research.google.com/assets/colab-badge.svg\" alt=\"Open In Colab\"/></a>"
      ]
    },
    {
      "cell_type": "code",
      "execution_count": 1,
      "metadata": {
        "id": "KDF5DMcx19dU"
      },
      "outputs": [],
      "source": [
        "import pandas as pd\n",
        "import numpy as np\n",
        "import matplotlib.pyplot as plt\n",
        "import seaborn as sns"
      ]
    },
    {
      "cell_type": "markdown",
      "source": [
        "Data Collection and Analysis"
      ],
      "metadata": {
        "id": "4kiokpi0jozP"
      }
    },
    {
      "cell_type": "code",
      "source": [
        "Employee_data = pd.read_excel('/content/features of vproject (1) (1).xlsx')\n"
      ],
      "metadata": {
        "id": "gEIrPYTNjax1"
      },
      "execution_count": 2,
      "outputs": []
    },
    {
      "cell_type": "code",
      "source": [
        "from google.colab import drive\n",
        "drive.mount('/content/drive')"
      ],
      "metadata": {
        "colab": {
          "base_uri": "https://localhost:8080/"
        },
        "id": "Dkr95cmth1iP",
        "outputId": "f35e2771-358e-4fe7-8bb0-d05dad4699a4"
      },
      "execution_count": 3,
      "outputs": [
        {
          "output_type": "stream",
          "name": "stdout",
          "text": [
            "Mounted at /content/drive\n"
          ]
        }
      ]
    },
    {
      "cell_type": "code",
      "source": [
        "Employee_data.head()"
      ],
      "metadata": {
        "colab": {
          "base_uri": "https://localhost:8080/",
          "height": 508
        },
        "id": "TM6vN4iljurW",
        "outputId": "432a7412-104a-485c-adb0-e4afdcb906a4"
      },
      "execution_count": 4,
      "outputs": [
        {
          "output_type": "execute_result",
          "data": {
            "text/plain": [
              "    EMP_ID    Emp Name   Age Gender Scope of Work  Skill of employee  \\\n",
              "0   1001.0      Suresh  29.0   Male      Craftsman           Skilled   \n",
              "1   1002.0        vino  32.0   Male      Craftsman        Un-Skilled   \n",
              "2   1003.0     kamaraj  35.0   Male      Craftsman           Skilled   \n",
              "3   1004.0        mani  38.0   Male         Welder           Skilled   \n",
              "4   1005.0  Maxi Agate  28.0   Male         Welder           Skilled   \n",
              "\n",
              "   Experience(Years)  Heart Beat(BPM)  Temperature      RFID Tag  ...  \\\n",
              "0                8.0             90.0        94.91  RFID-6305735  ...   \n",
              "1                9.0             98.0        89.23  RFID-0896539  ...   \n",
              "2               12.0             79.0        85.63  RFID-5689011  ...   \n",
              "3               13.0             90.0       100.42  RFID-9794849  ...   \n",
              "4                6.0             89.0       103.82  RFID-9803536  ...   \n",
              "\n",
              "  Working Hours Remaining Working Hours Bp per Minute Daily wages  \\\n",
              "0          32.0                    2418          79.0       900.0   \n",
              "1          49.0                    2401          78.0       900.0   \n",
              "2          21.0                    2429          79.0       900.0   \n",
              "3          32.0                    2418          98.0       800.0   \n",
              "4          19.0                    2431          91.0       800.0   \n",
              "\n",
              "    IoT devices         MOTION INDICATION  Noise Detection  Infrared Sensor  \\\n",
              "0  Safety HElmet  Motion detection sensor              Yes               No   \n",
              "1  Safety HElmet  Motion detection sensor              Yes               No   \n",
              "2  Safety HElmet  Motion detection sensor               No               No   \n",
              "3  Safety HElmet  Motion detection sensor               No               No   \n",
              "4  Safety HElmet  Motion detection sensor               No               No   \n",
              "\n",
              "   Gas Sensor Productivity  \n",
              "0          No   excellent   \n",
              "1          No   excellent   \n",
              "2         Yes        good   \n",
              "3         Yes        good   \n",
              "4          No          bad  \n",
              "\n",
              "[5 rows x 25 columns]"
            ],
            "text/html": [
              "\n",
              "  <div id=\"df-652f1145-7ec9-4f96-a470-0c883dba5914\">\n",
              "    <div class=\"colab-df-container\">\n",
              "      <div>\n",
              "<style scoped>\n",
              "    .dataframe tbody tr th:only-of-type {\n",
              "        vertical-align: middle;\n",
              "    }\n",
              "\n",
              "    .dataframe tbody tr th {\n",
              "        vertical-align: top;\n",
              "    }\n",
              "\n",
              "    .dataframe thead th {\n",
              "        text-align: right;\n",
              "    }\n",
              "</style>\n",
              "<table border=\"1\" class=\"dataframe\">\n",
              "  <thead>\n",
              "    <tr style=\"text-align: right;\">\n",
              "      <th></th>\n",
              "      <th>EMP_ID</th>\n",
              "      <th>Emp Name</th>\n",
              "      <th>Age</th>\n",
              "      <th>Gender</th>\n",
              "      <th>Scope of Work</th>\n",
              "      <th>Skill of employee</th>\n",
              "      <th>Experience(Years)</th>\n",
              "      <th>Heart Beat(BPM)</th>\n",
              "      <th>Temperature</th>\n",
              "      <th>RFID Tag</th>\n",
              "      <th>...</th>\n",
              "      <th>Working Hours</th>\n",
              "      <th>Remaining Working Hours</th>\n",
              "      <th>Bp per Minute</th>\n",
              "      <th>Daily wages</th>\n",
              "      <th>IoT devices</th>\n",
              "      <th>MOTION INDICATION</th>\n",
              "      <th>Noise Detection</th>\n",
              "      <th>Infrared Sensor</th>\n",
              "      <th>Gas Sensor</th>\n",
              "      <th>Productivity</th>\n",
              "    </tr>\n",
              "  </thead>\n",
              "  <tbody>\n",
              "    <tr>\n",
              "      <th>0</th>\n",
              "      <td>1001.0</td>\n",
              "      <td>Suresh</td>\n",
              "      <td>29.0</td>\n",
              "      <td>Male</td>\n",
              "      <td>Craftsman</td>\n",
              "      <td>Skilled</td>\n",
              "      <td>8.0</td>\n",
              "      <td>90.0</td>\n",
              "      <td>94.91</td>\n",
              "      <td>RFID-6305735</td>\n",
              "      <td>...</td>\n",
              "      <td>32.0</td>\n",
              "      <td>2418</td>\n",
              "      <td>79.0</td>\n",
              "      <td>900.0</td>\n",
              "      <td>Safety HElmet</td>\n",
              "      <td>Motion detection sensor</td>\n",
              "      <td>Yes</td>\n",
              "      <td>No</td>\n",
              "      <td>No</td>\n",
              "      <td>excellent</td>\n",
              "    </tr>\n",
              "    <tr>\n",
              "      <th>1</th>\n",
              "      <td>1002.0</td>\n",
              "      <td>vino</td>\n",
              "      <td>32.0</td>\n",
              "      <td>Male</td>\n",
              "      <td>Craftsman</td>\n",
              "      <td>Un-Skilled</td>\n",
              "      <td>9.0</td>\n",
              "      <td>98.0</td>\n",
              "      <td>89.23</td>\n",
              "      <td>RFID-0896539</td>\n",
              "      <td>...</td>\n",
              "      <td>49.0</td>\n",
              "      <td>2401</td>\n",
              "      <td>78.0</td>\n",
              "      <td>900.0</td>\n",
              "      <td>Safety HElmet</td>\n",
              "      <td>Motion detection sensor</td>\n",
              "      <td>Yes</td>\n",
              "      <td>No</td>\n",
              "      <td>No</td>\n",
              "      <td>excellent</td>\n",
              "    </tr>\n",
              "    <tr>\n",
              "      <th>2</th>\n",
              "      <td>1003.0</td>\n",
              "      <td>kamaraj</td>\n",
              "      <td>35.0</td>\n",
              "      <td>Male</td>\n",
              "      <td>Craftsman</td>\n",
              "      <td>Skilled</td>\n",
              "      <td>12.0</td>\n",
              "      <td>79.0</td>\n",
              "      <td>85.63</td>\n",
              "      <td>RFID-5689011</td>\n",
              "      <td>...</td>\n",
              "      <td>21.0</td>\n",
              "      <td>2429</td>\n",
              "      <td>79.0</td>\n",
              "      <td>900.0</td>\n",
              "      <td>Safety HElmet</td>\n",
              "      <td>Motion detection sensor</td>\n",
              "      <td>No</td>\n",
              "      <td>No</td>\n",
              "      <td>Yes</td>\n",
              "      <td>good</td>\n",
              "    </tr>\n",
              "    <tr>\n",
              "      <th>3</th>\n",
              "      <td>1004.0</td>\n",
              "      <td>mani</td>\n",
              "      <td>38.0</td>\n",
              "      <td>Male</td>\n",
              "      <td>Welder</td>\n",
              "      <td>Skilled</td>\n",
              "      <td>13.0</td>\n",
              "      <td>90.0</td>\n",
              "      <td>100.42</td>\n",
              "      <td>RFID-9794849</td>\n",
              "      <td>...</td>\n",
              "      <td>32.0</td>\n",
              "      <td>2418</td>\n",
              "      <td>98.0</td>\n",
              "      <td>800.0</td>\n",
              "      <td>Safety HElmet</td>\n",
              "      <td>Motion detection sensor</td>\n",
              "      <td>No</td>\n",
              "      <td>No</td>\n",
              "      <td>Yes</td>\n",
              "      <td>good</td>\n",
              "    </tr>\n",
              "    <tr>\n",
              "      <th>4</th>\n",
              "      <td>1005.0</td>\n",
              "      <td>Maxi Agate</td>\n",
              "      <td>28.0</td>\n",
              "      <td>Male</td>\n",
              "      <td>Welder</td>\n",
              "      <td>Skilled</td>\n",
              "      <td>6.0</td>\n",
              "      <td>89.0</td>\n",
              "      <td>103.82</td>\n",
              "      <td>RFID-9803536</td>\n",
              "      <td>...</td>\n",
              "      <td>19.0</td>\n",
              "      <td>2431</td>\n",
              "      <td>91.0</td>\n",
              "      <td>800.0</td>\n",
              "      <td>Safety HElmet</td>\n",
              "      <td>Motion detection sensor</td>\n",
              "      <td>No</td>\n",
              "      <td>No</td>\n",
              "      <td>No</td>\n",
              "      <td>bad</td>\n",
              "    </tr>\n",
              "  </tbody>\n",
              "</table>\n",
              "<p>5 rows × 25 columns</p>\n",
              "</div>\n",
              "      <button class=\"colab-df-convert\" onclick=\"convertToInteractive('df-652f1145-7ec9-4f96-a470-0c883dba5914')\"\n",
              "              title=\"Convert this dataframe to an interactive table.\"\n",
              "              style=\"display:none;\">\n",
              "        \n",
              "  <svg xmlns=\"http://www.w3.org/2000/svg\" height=\"24px\"viewBox=\"0 0 24 24\"\n",
              "       width=\"24px\">\n",
              "    <path d=\"M0 0h24v24H0V0z\" fill=\"none\"/>\n",
              "    <path d=\"M18.56 5.44l.94 2.06.94-2.06 2.06-.94-2.06-.94-.94-2.06-.94 2.06-2.06.94zm-11 1L8.5 8.5l.94-2.06 2.06-.94-2.06-.94L8.5 2.5l-.94 2.06-2.06.94zm10 10l.94 2.06.94-2.06 2.06-.94-2.06-.94-.94-2.06-.94 2.06-2.06.94z\"/><path d=\"M17.41 7.96l-1.37-1.37c-.4-.4-.92-.59-1.43-.59-.52 0-1.04.2-1.43.59L10.3 9.45l-7.72 7.72c-.78.78-.78 2.05 0 2.83L4 21.41c.39.39.9.59 1.41.59.51 0 1.02-.2 1.41-.59l7.78-7.78 2.81-2.81c.8-.78.8-2.07 0-2.86zM5.41 20L4 18.59l7.72-7.72 1.47 1.35L5.41 20z\"/>\n",
              "  </svg>\n",
              "      </button>\n",
              "      \n",
              "  <style>\n",
              "    .colab-df-container {\n",
              "      display:flex;\n",
              "      flex-wrap:wrap;\n",
              "      gap: 12px;\n",
              "    }\n",
              "\n",
              "    .colab-df-convert {\n",
              "      background-color: #E8F0FE;\n",
              "      border: none;\n",
              "      border-radius: 50%;\n",
              "      cursor: pointer;\n",
              "      display: none;\n",
              "      fill: #1967D2;\n",
              "      height: 32px;\n",
              "      padding: 0 0 0 0;\n",
              "      width: 32px;\n",
              "    }\n",
              "\n",
              "    .colab-df-convert:hover {\n",
              "      background-color: #E2EBFA;\n",
              "      box-shadow: 0px 1px 2px rgba(60, 64, 67, 0.3), 0px 1px 3px 1px rgba(60, 64, 67, 0.15);\n",
              "      fill: #174EA6;\n",
              "    }\n",
              "\n",
              "    [theme=dark] .colab-df-convert {\n",
              "      background-color: #3B4455;\n",
              "      fill: #D2E3FC;\n",
              "    }\n",
              "\n",
              "    [theme=dark] .colab-df-convert:hover {\n",
              "      background-color: #434B5C;\n",
              "      box-shadow: 0px 1px 3px 1px rgba(0, 0, 0, 0.15);\n",
              "      filter: drop-shadow(0px 1px 2px rgba(0, 0, 0, 0.3));\n",
              "      fill: #FFFFFF;\n",
              "    }\n",
              "  </style>\n",
              "\n",
              "      <script>\n",
              "        const buttonEl =\n",
              "          document.querySelector('#df-652f1145-7ec9-4f96-a470-0c883dba5914 button.colab-df-convert');\n",
              "        buttonEl.style.display =\n",
              "          google.colab.kernel.accessAllowed ? 'block' : 'none';\n",
              "\n",
              "        async function convertToInteractive(key) {\n",
              "          const element = document.querySelector('#df-652f1145-7ec9-4f96-a470-0c883dba5914');\n",
              "          const dataTable =\n",
              "            await google.colab.kernel.invokeFunction('convertToInteractive',\n",
              "                                                     [key], {});\n",
              "          if (!dataTable) return;\n",
              "\n",
              "          const docLinkHtml = 'Like what you see? Visit the ' +\n",
              "            '<a target=\"_blank\" href=https://colab.research.google.com/notebooks/data_table.ipynb>data table notebook</a>'\n",
              "            + ' to learn more about interactive tables.';\n",
              "          element.innerHTML = '';\n",
              "          dataTable['output_type'] = 'display_data';\n",
              "          await google.colab.output.renderOutput(dataTable, element);\n",
              "          const docLink = document.createElement('div');\n",
              "          docLink.innerHTML = docLinkHtml;\n",
              "          element.appendChild(docLink);\n",
              "        }\n",
              "      </script>\n",
              "    </div>\n",
              "  </div>\n",
              "  "
            ]
          },
          "metadata": {},
          "execution_count": 4
        }
      ]
    },
    {
      "cell_type": "code",
      "source": [
        "# number of rows and Columns in this dataset\n",
        "Employee_data.shape"
      ],
      "metadata": {
        "colab": {
          "base_uri": "https://localhost:8080/"
        },
        "id": "D6OfZg0gkUEk",
        "outputId": "60a1e57b-e985-4c15-a726-b43997a834d5"
      },
      "execution_count": 5,
      "outputs": [
        {
          "output_type": "execute_result",
          "data": {
            "text/plain": [
              "(354, 25)"
            ]
          },
          "metadata": {},
          "execution_count": 5
        }
      ]
    },
    {
      "cell_type": "code",
      "source": [
        "Employee_data.head()\n"
      ],
      "metadata": {
        "colab": {
          "base_uri": "https://localhost:8080/",
          "height": 508
        },
        "id": "k72fiSTY4gcj",
        "outputId": "87c5dee6-975a-4282-c331-bcf47a406f1a"
      },
      "execution_count": 6,
      "outputs": [
        {
          "output_type": "execute_result",
          "data": {
            "text/plain": [
              "    EMP_ID    Emp Name   Age Gender Scope of Work  Skill of employee  \\\n",
              "0   1001.0      Suresh  29.0   Male      Craftsman           Skilled   \n",
              "1   1002.0        vino  32.0   Male      Craftsman        Un-Skilled   \n",
              "2   1003.0     kamaraj  35.0   Male      Craftsman           Skilled   \n",
              "3   1004.0        mani  38.0   Male         Welder           Skilled   \n",
              "4   1005.0  Maxi Agate  28.0   Male         Welder           Skilled   \n",
              "\n",
              "   Experience(Years)  Heart Beat(BPM)  Temperature      RFID Tag  ...  \\\n",
              "0                8.0             90.0        94.91  RFID-6305735  ...   \n",
              "1                9.0             98.0        89.23  RFID-0896539  ...   \n",
              "2               12.0             79.0        85.63  RFID-5689011  ...   \n",
              "3               13.0             90.0       100.42  RFID-9794849  ...   \n",
              "4                6.0             89.0       103.82  RFID-9803536  ...   \n",
              "\n",
              "  Working Hours Remaining Working Hours Bp per Minute Daily wages  \\\n",
              "0          32.0                    2418          79.0       900.0   \n",
              "1          49.0                    2401          78.0       900.0   \n",
              "2          21.0                    2429          79.0       900.0   \n",
              "3          32.0                    2418          98.0       800.0   \n",
              "4          19.0                    2431          91.0       800.0   \n",
              "\n",
              "    IoT devices         MOTION INDICATION  Noise Detection  Infrared Sensor  \\\n",
              "0  Safety HElmet  Motion detection sensor              Yes               No   \n",
              "1  Safety HElmet  Motion detection sensor              Yes               No   \n",
              "2  Safety HElmet  Motion detection sensor               No               No   \n",
              "3  Safety HElmet  Motion detection sensor               No               No   \n",
              "4  Safety HElmet  Motion detection sensor               No               No   \n",
              "\n",
              "   Gas Sensor Productivity  \n",
              "0          No   excellent   \n",
              "1          No   excellent   \n",
              "2         Yes        good   \n",
              "3         Yes        good   \n",
              "4          No          bad  \n",
              "\n",
              "[5 rows x 25 columns]"
            ],
            "text/html": [
              "\n",
              "  <div id=\"df-7ea1ddbc-6b1b-48b4-8aed-528838054a87\">\n",
              "    <div class=\"colab-df-container\">\n",
              "      <div>\n",
              "<style scoped>\n",
              "    .dataframe tbody tr th:only-of-type {\n",
              "        vertical-align: middle;\n",
              "    }\n",
              "\n",
              "    .dataframe tbody tr th {\n",
              "        vertical-align: top;\n",
              "    }\n",
              "\n",
              "    .dataframe thead th {\n",
              "        text-align: right;\n",
              "    }\n",
              "</style>\n",
              "<table border=\"1\" class=\"dataframe\">\n",
              "  <thead>\n",
              "    <tr style=\"text-align: right;\">\n",
              "      <th></th>\n",
              "      <th>EMP_ID</th>\n",
              "      <th>Emp Name</th>\n",
              "      <th>Age</th>\n",
              "      <th>Gender</th>\n",
              "      <th>Scope of Work</th>\n",
              "      <th>Skill of employee</th>\n",
              "      <th>Experience(Years)</th>\n",
              "      <th>Heart Beat(BPM)</th>\n",
              "      <th>Temperature</th>\n",
              "      <th>RFID Tag</th>\n",
              "      <th>...</th>\n",
              "      <th>Working Hours</th>\n",
              "      <th>Remaining Working Hours</th>\n",
              "      <th>Bp per Minute</th>\n",
              "      <th>Daily wages</th>\n",
              "      <th>IoT devices</th>\n",
              "      <th>MOTION INDICATION</th>\n",
              "      <th>Noise Detection</th>\n",
              "      <th>Infrared Sensor</th>\n",
              "      <th>Gas Sensor</th>\n",
              "      <th>Productivity</th>\n",
              "    </tr>\n",
              "  </thead>\n",
              "  <tbody>\n",
              "    <tr>\n",
              "      <th>0</th>\n",
              "      <td>1001.0</td>\n",
              "      <td>Suresh</td>\n",
              "      <td>29.0</td>\n",
              "      <td>Male</td>\n",
              "      <td>Craftsman</td>\n",
              "      <td>Skilled</td>\n",
              "      <td>8.0</td>\n",
              "      <td>90.0</td>\n",
              "      <td>94.91</td>\n",
              "      <td>RFID-6305735</td>\n",
              "      <td>...</td>\n",
              "      <td>32.0</td>\n",
              "      <td>2418</td>\n",
              "      <td>79.0</td>\n",
              "      <td>900.0</td>\n",
              "      <td>Safety HElmet</td>\n",
              "      <td>Motion detection sensor</td>\n",
              "      <td>Yes</td>\n",
              "      <td>No</td>\n",
              "      <td>No</td>\n",
              "      <td>excellent</td>\n",
              "    </tr>\n",
              "    <tr>\n",
              "      <th>1</th>\n",
              "      <td>1002.0</td>\n",
              "      <td>vino</td>\n",
              "      <td>32.0</td>\n",
              "      <td>Male</td>\n",
              "      <td>Craftsman</td>\n",
              "      <td>Un-Skilled</td>\n",
              "      <td>9.0</td>\n",
              "      <td>98.0</td>\n",
              "      <td>89.23</td>\n",
              "      <td>RFID-0896539</td>\n",
              "      <td>...</td>\n",
              "      <td>49.0</td>\n",
              "      <td>2401</td>\n",
              "      <td>78.0</td>\n",
              "      <td>900.0</td>\n",
              "      <td>Safety HElmet</td>\n",
              "      <td>Motion detection sensor</td>\n",
              "      <td>Yes</td>\n",
              "      <td>No</td>\n",
              "      <td>No</td>\n",
              "      <td>excellent</td>\n",
              "    </tr>\n",
              "    <tr>\n",
              "      <th>2</th>\n",
              "      <td>1003.0</td>\n",
              "      <td>kamaraj</td>\n",
              "      <td>35.0</td>\n",
              "      <td>Male</td>\n",
              "      <td>Craftsman</td>\n",
              "      <td>Skilled</td>\n",
              "      <td>12.0</td>\n",
              "      <td>79.0</td>\n",
              "      <td>85.63</td>\n",
              "      <td>RFID-5689011</td>\n",
              "      <td>...</td>\n",
              "      <td>21.0</td>\n",
              "      <td>2429</td>\n",
              "      <td>79.0</td>\n",
              "      <td>900.0</td>\n",
              "      <td>Safety HElmet</td>\n",
              "      <td>Motion detection sensor</td>\n",
              "      <td>No</td>\n",
              "      <td>No</td>\n",
              "      <td>Yes</td>\n",
              "      <td>good</td>\n",
              "    </tr>\n",
              "    <tr>\n",
              "      <th>3</th>\n",
              "      <td>1004.0</td>\n",
              "      <td>mani</td>\n",
              "      <td>38.0</td>\n",
              "      <td>Male</td>\n",
              "      <td>Welder</td>\n",
              "      <td>Skilled</td>\n",
              "      <td>13.0</td>\n",
              "      <td>90.0</td>\n",
              "      <td>100.42</td>\n",
              "      <td>RFID-9794849</td>\n",
              "      <td>...</td>\n",
              "      <td>32.0</td>\n",
              "      <td>2418</td>\n",
              "      <td>98.0</td>\n",
              "      <td>800.0</td>\n",
              "      <td>Safety HElmet</td>\n",
              "      <td>Motion detection sensor</td>\n",
              "      <td>No</td>\n",
              "      <td>No</td>\n",
              "      <td>Yes</td>\n",
              "      <td>good</td>\n",
              "    </tr>\n",
              "    <tr>\n",
              "      <th>4</th>\n",
              "      <td>1005.0</td>\n",
              "      <td>Maxi Agate</td>\n",
              "      <td>28.0</td>\n",
              "      <td>Male</td>\n",
              "      <td>Welder</td>\n",
              "      <td>Skilled</td>\n",
              "      <td>6.0</td>\n",
              "      <td>89.0</td>\n",
              "      <td>103.82</td>\n",
              "      <td>RFID-9803536</td>\n",
              "      <td>...</td>\n",
              "      <td>19.0</td>\n",
              "      <td>2431</td>\n",
              "      <td>91.0</td>\n",
              "      <td>800.0</td>\n",
              "      <td>Safety HElmet</td>\n",
              "      <td>Motion detection sensor</td>\n",
              "      <td>No</td>\n",
              "      <td>No</td>\n",
              "      <td>No</td>\n",
              "      <td>bad</td>\n",
              "    </tr>\n",
              "  </tbody>\n",
              "</table>\n",
              "<p>5 rows × 25 columns</p>\n",
              "</div>\n",
              "      <button class=\"colab-df-convert\" onclick=\"convertToInteractive('df-7ea1ddbc-6b1b-48b4-8aed-528838054a87')\"\n",
              "              title=\"Convert this dataframe to an interactive table.\"\n",
              "              style=\"display:none;\">\n",
              "        \n",
              "  <svg xmlns=\"http://www.w3.org/2000/svg\" height=\"24px\"viewBox=\"0 0 24 24\"\n",
              "       width=\"24px\">\n",
              "    <path d=\"M0 0h24v24H0V0z\" fill=\"none\"/>\n",
              "    <path d=\"M18.56 5.44l.94 2.06.94-2.06 2.06-.94-2.06-.94-.94-2.06-.94 2.06-2.06.94zm-11 1L8.5 8.5l.94-2.06 2.06-.94-2.06-.94L8.5 2.5l-.94 2.06-2.06.94zm10 10l.94 2.06.94-2.06 2.06-.94-2.06-.94-.94-2.06-.94 2.06-2.06.94z\"/><path d=\"M17.41 7.96l-1.37-1.37c-.4-.4-.92-.59-1.43-.59-.52 0-1.04.2-1.43.59L10.3 9.45l-7.72 7.72c-.78.78-.78 2.05 0 2.83L4 21.41c.39.39.9.59 1.41.59.51 0 1.02-.2 1.41-.59l7.78-7.78 2.81-2.81c.8-.78.8-2.07 0-2.86zM5.41 20L4 18.59l7.72-7.72 1.47 1.35L5.41 20z\"/>\n",
              "  </svg>\n",
              "      </button>\n",
              "      \n",
              "  <style>\n",
              "    .colab-df-container {\n",
              "      display:flex;\n",
              "      flex-wrap:wrap;\n",
              "      gap: 12px;\n",
              "    }\n",
              "\n",
              "    .colab-df-convert {\n",
              "      background-color: #E8F0FE;\n",
              "      border: none;\n",
              "      border-radius: 50%;\n",
              "      cursor: pointer;\n",
              "      display: none;\n",
              "      fill: #1967D2;\n",
              "      height: 32px;\n",
              "      padding: 0 0 0 0;\n",
              "      width: 32px;\n",
              "    }\n",
              "\n",
              "    .colab-df-convert:hover {\n",
              "      background-color: #E2EBFA;\n",
              "      box-shadow: 0px 1px 2px rgba(60, 64, 67, 0.3), 0px 1px 3px 1px rgba(60, 64, 67, 0.15);\n",
              "      fill: #174EA6;\n",
              "    }\n",
              "\n",
              "    [theme=dark] .colab-df-convert {\n",
              "      background-color: #3B4455;\n",
              "      fill: #D2E3FC;\n",
              "    }\n",
              "\n",
              "    [theme=dark] .colab-df-convert:hover {\n",
              "      background-color: #434B5C;\n",
              "      box-shadow: 0px 1px 3px 1px rgba(0, 0, 0, 0.15);\n",
              "      filter: drop-shadow(0px 1px 2px rgba(0, 0, 0, 0.3));\n",
              "      fill: #FFFFFF;\n",
              "    }\n",
              "  </style>\n",
              "\n",
              "      <script>\n",
              "        const buttonEl =\n",
              "          document.querySelector('#df-7ea1ddbc-6b1b-48b4-8aed-528838054a87 button.colab-df-convert');\n",
              "        buttonEl.style.display =\n",
              "          google.colab.kernel.accessAllowed ? 'block' : 'none';\n",
              "\n",
              "        async function convertToInteractive(key) {\n",
              "          const element = document.querySelector('#df-7ea1ddbc-6b1b-48b4-8aed-528838054a87');\n",
              "          const dataTable =\n",
              "            await google.colab.kernel.invokeFunction('convertToInteractive',\n",
              "                                                     [key], {});\n",
              "          if (!dataTable) return;\n",
              "\n",
              "          const docLinkHtml = 'Like what you see? Visit the ' +\n",
              "            '<a target=\"_blank\" href=https://colab.research.google.com/notebooks/data_table.ipynb>data table notebook</a>'\n",
              "            + ' to learn more about interactive tables.';\n",
              "          element.innerHTML = '';\n",
              "          dataTable['output_type'] = 'display_data';\n",
              "          await google.colab.output.renderOutput(dataTable, element);\n",
              "          const docLink = document.createElement('div');\n",
              "          docLink.innerHTML = docLinkHtml;\n",
              "          element.appendChild(docLink);\n",
              "        }\n",
              "      </script>\n",
              "    </div>\n",
              "  </div>\n",
              "  "
            ]
          },
          "metadata": {},
          "execution_count": 6
        }
      ]
    },
    {
      "cell_type": "code",
      "source": [
        "# getting the statistical measures of the data\n",
        "Employee_data.describe()"
      ],
      "metadata": {
        "colab": {
          "base_uri": "https://localhost:8080/",
          "height": 399
        },
        "id": "Goa53W5n6IhF",
        "outputId": "95248329-0c11-45eb-b795-f7d52d517742"
      },
      "execution_count": 7,
      "outputs": [
        {
          "output_type": "execute_result",
          "data": {
            "text/plain": [
              "            EMP_ID         Age  Experience(Years)  Heart Beat(BPM)  \\\n",
              "count   354.000000  354.000000         354.000000       354.000000   \n",
              "mean   1177.500000   32.655367           9.672316       104.841808   \n",
              "std     102.335233    6.109009           5.751706        19.047067   \n",
              "min    1001.000000   18.000000           1.000000        77.000000   \n",
              "25%    1089.250000   28.000000           5.000000        89.000000   \n",
              "50%    1177.500000   32.000000           9.000000        98.000000   \n",
              "75%    1265.750000   36.000000          13.000000       122.000000   \n",
              "max    1354.000000   48.000000          25.000000       153.000000   \n",
              "\n",
              "       Temperature  Total Working Hours  Working Hours  \\\n",
              "count   354.000000                354.0     354.000000   \n",
              "mean     96.920169               2450.0      31.793785   \n",
              "std      11.096506                  0.0      11.915418   \n",
              "min      80.000000               2450.0      12.000000   \n",
              "25%      89.470000               2450.0      22.000000   \n",
              "50%      96.190000               2450.0      31.000000   \n",
              "75%     100.560000               2450.0      40.750000   \n",
              "max     159.000000               2450.0      52.000000   \n",
              "\n",
              "       Remaining Working Hours  Bp per Minute  Daily wages  \n",
              "count               354.000000     354.000000   354.000000  \n",
              "mean               2418.206215     211.299435   629.943503  \n",
              "std                  11.915418     474.698116   117.367234  \n",
              "min                2398.000000      78.000000   500.000000  \n",
              "25%                2409.250000      91.000000   600.000000  \n",
              "50%                2419.000000     113.000000   600.000000  \n",
              "75%                2428.000000     128.000000   600.000000  \n",
              "max                2438.000000    2424.000000   900.000000  "
            ],
            "text/html": [
              "\n",
              "  <div id=\"df-db5513c0-d5ae-4e3f-913e-e5011e7bc176\">\n",
              "    <div class=\"colab-df-container\">\n",
              "      <div>\n",
              "<style scoped>\n",
              "    .dataframe tbody tr th:only-of-type {\n",
              "        vertical-align: middle;\n",
              "    }\n",
              "\n",
              "    .dataframe tbody tr th {\n",
              "        vertical-align: top;\n",
              "    }\n",
              "\n",
              "    .dataframe thead th {\n",
              "        text-align: right;\n",
              "    }\n",
              "</style>\n",
              "<table border=\"1\" class=\"dataframe\">\n",
              "  <thead>\n",
              "    <tr style=\"text-align: right;\">\n",
              "      <th></th>\n",
              "      <th>EMP_ID</th>\n",
              "      <th>Age</th>\n",
              "      <th>Experience(Years)</th>\n",
              "      <th>Heart Beat(BPM)</th>\n",
              "      <th>Temperature</th>\n",
              "      <th>Total Working Hours</th>\n",
              "      <th>Working Hours</th>\n",
              "      <th>Remaining Working Hours</th>\n",
              "      <th>Bp per Minute</th>\n",
              "      <th>Daily wages</th>\n",
              "    </tr>\n",
              "  </thead>\n",
              "  <tbody>\n",
              "    <tr>\n",
              "      <th>count</th>\n",
              "      <td>354.000000</td>\n",
              "      <td>354.000000</td>\n",
              "      <td>354.000000</td>\n",
              "      <td>354.000000</td>\n",
              "      <td>354.000000</td>\n",
              "      <td>354.0</td>\n",
              "      <td>354.000000</td>\n",
              "      <td>354.000000</td>\n",
              "      <td>354.000000</td>\n",
              "      <td>354.000000</td>\n",
              "    </tr>\n",
              "    <tr>\n",
              "      <th>mean</th>\n",
              "      <td>1177.500000</td>\n",
              "      <td>32.655367</td>\n",
              "      <td>9.672316</td>\n",
              "      <td>104.841808</td>\n",
              "      <td>96.920169</td>\n",
              "      <td>2450.0</td>\n",
              "      <td>31.793785</td>\n",
              "      <td>2418.206215</td>\n",
              "      <td>211.299435</td>\n",
              "      <td>629.943503</td>\n",
              "    </tr>\n",
              "    <tr>\n",
              "      <th>std</th>\n",
              "      <td>102.335233</td>\n",
              "      <td>6.109009</td>\n",
              "      <td>5.751706</td>\n",
              "      <td>19.047067</td>\n",
              "      <td>11.096506</td>\n",
              "      <td>0.0</td>\n",
              "      <td>11.915418</td>\n",
              "      <td>11.915418</td>\n",
              "      <td>474.698116</td>\n",
              "      <td>117.367234</td>\n",
              "    </tr>\n",
              "    <tr>\n",
              "      <th>min</th>\n",
              "      <td>1001.000000</td>\n",
              "      <td>18.000000</td>\n",
              "      <td>1.000000</td>\n",
              "      <td>77.000000</td>\n",
              "      <td>80.000000</td>\n",
              "      <td>2450.0</td>\n",
              "      <td>12.000000</td>\n",
              "      <td>2398.000000</td>\n",
              "      <td>78.000000</td>\n",
              "      <td>500.000000</td>\n",
              "    </tr>\n",
              "    <tr>\n",
              "      <th>25%</th>\n",
              "      <td>1089.250000</td>\n",
              "      <td>28.000000</td>\n",
              "      <td>5.000000</td>\n",
              "      <td>89.000000</td>\n",
              "      <td>89.470000</td>\n",
              "      <td>2450.0</td>\n",
              "      <td>22.000000</td>\n",
              "      <td>2409.250000</td>\n",
              "      <td>91.000000</td>\n",
              "      <td>600.000000</td>\n",
              "    </tr>\n",
              "    <tr>\n",
              "      <th>50%</th>\n",
              "      <td>1177.500000</td>\n",
              "      <td>32.000000</td>\n",
              "      <td>9.000000</td>\n",
              "      <td>98.000000</td>\n",
              "      <td>96.190000</td>\n",
              "      <td>2450.0</td>\n",
              "      <td>31.000000</td>\n",
              "      <td>2419.000000</td>\n",
              "      <td>113.000000</td>\n",
              "      <td>600.000000</td>\n",
              "    </tr>\n",
              "    <tr>\n",
              "      <th>75%</th>\n",
              "      <td>1265.750000</td>\n",
              "      <td>36.000000</td>\n",
              "      <td>13.000000</td>\n",
              "      <td>122.000000</td>\n",
              "      <td>100.560000</td>\n",
              "      <td>2450.0</td>\n",
              "      <td>40.750000</td>\n",
              "      <td>2428.000000</td>\n",
              "      <td>128.000000</td>\n",
              "      <td>600.000000</td>\n",
              "    </tr>\n",
              "    <tr>\n",
              "      <th>max</th>\n",
              "      <td>1354.000000</td>\n",
              "      <td>48.000000</td>\n",
              "      <td>25.000000</td>\n",
              "      <td>153.000000</td>\n",
              "      <td>159.000000</td>\n",
              "      <td>2450.0</td>\n",
              "      <td>52.000000</td>\n",
              "      <td>2438.000000</td>\n",
              "      <td>2424.000000</td>\n",
              "      <td>900.000000</td>\n",
              "    </tr>\n",
              "  </tbody>\n",
              "</table>\n",
              "</div>\n",
              "      <button class=\"colab-df-convert\" onclick=\"convertToInteractive('df-db5513c0-d5ae-4e3f-913e-e5011e7bc176')\"\n",
              "              title=\"Convert this dataframe to an interactive table.\"\n",
              "              style=\"display:none;\">\n",
              "        \n",
              "  <svg xmlns=\"http://www.w3.org/2000/svg\" height=\"24px\"viewBox=\"0 0 24 24\"\n",
              "       width=\"24px\">\n",
              "    <path d=\"M0 0h24v24H0V0z\" fill=\"none\"/>\n",
              "    <path d=\"M18.56 5.44l.94 2.06.94-2.06 2.06-.94-2.06-.94-.94-2.06-.94 2.06-2.06.94zm-11 1L8.5 8.5l.94-2.06 2.06-.94-2.06-.94L8.5 2.5l-.94 2.06-2.06.94zm10 10l.94 2.06.94-2.06 2.06-.94-2.06-.94-.94-2.06-.94 2.06-2.06.94z\"/><path d=\"M17.41 7.96l-1.37-1.37c-.4-.4-.92-.59-1.43-.59-.52 0-1.04.2-1.43.59L10.3 9.45l-7.72 7.72c-.78.78-.78 2.05 0 2.83L4 21.41c.39.39.9.59 1.41.59.51 0 1.02-.2 1.41-.59l7.78-7.78 2.81-2.81c.8-.78.8-2.07 0-2.86zM5.41 20L4 18.59l7.72-7.72 1.47 1.35L5.41 20z\"/>\n",
              "  </svg>\n",
              "      </button>\n",
              "      \n",
              "  <style>\n",
              "    .colab-df-container {\n",
              "      display:flex;\n",
              "      flex-wrap:wrap;\n",
              "      gap: 12px;\n",
              "    }\n",
              "\n",
              "    .colab-df-convert {\n",
              "      background-color: #E8F0FE;\n",
              "      border: none;\n",
              "      border-radius: 50%;\n",
              "      cursor: pointer;\n",
              "      display: none;\n",
              "      fill: #1967D2;\n",
              "      height: 32px;\n",
              "      padding: 0 0 0 0;\n",
              "      width: 32px;\n",
              "    }\n",
              "\n",
              "    .colab-df-convert:hover {\n",
              "      background-color: #E2EBFA;\n",
              "      box-shadow: 0px 1px 2px rgba(60, 64, 67, 0.3), 0px 1px 3px 1px rgba(60, 64, 67, 0.15);\n",
              "      fill: #174EA6;\n",
              "    }\n",
              "\n",
              "    [theme=dark] .colab-df-convert {\n",
              "      background-color: #3B4455;\n",
              "      fill: #D2E3FC;\n",
              "    }\n",
              "\n",
              "    [theme=dark] .colab-df-convert:hover {\n",
              "      background-color: #434B5C;\n",
              "      box-shadow: 0px 1px 3px 1px rgba(0, 0, 0, 0.15);\n",
              "      filter: drop-shadow(0px 1px 2px rgba(0, 0, 0, 0.3));\n",
              "      fill: #FFFFFF;\n",
              "    }\n",
              "  </style>\n",
              "\n",
              "      <script>\n",
              "        const buttonEl =\n",
              "          document.querySelector('#df-db5513c0-d5ae-4e3f-913e-e5011e7bc176 button.colab-df-convert');\n",
              "        buttonEl.style.display =\n",
              "          google.colab.kernel.accessAllowed ? 'block' : 'none';\n",
              "\n",
              "        async function convertToInteractive(key) {\n",
              "          const element = document.querySelector('#df-db5513c0-d5ae-4e3f-913e-e5011e7bc176');\n",
              "          const dataTable =\n",
              "            await google.colab.kernel.invokeFunction('convertToInteractive',\n",
              "                                                     [key], {});\n",
              "          if (!dataTable) return;\n",
              "\n",
              "          const docLinkHtml = 'Like what you see? Visit the ' +\n",
              "            '<a target=\"_blank\" href=https://colab.research.google.com/notebooks/data_table.ipynb>data table notebook</a>'\n",
              "            + ' to learn more about interactive tables.';\n",
              "          element.innerHTML = '';\n",
              "          dataTable['output_type'] = 'display_data';\n",
              "          await google.colab.output.renderOutput(dataTable, element);\n",
              "          const docLink = document.createElement('div');\n",
              "          docLink.innerHTML = docLinkHtml;\n",
              "          element.appendChild(docLink);\n",
              "        }\n",
              "      </script>\n",
              "    </div>\n",
              "  </div>\n",
              "  "
            ]
          },
          "metadata": {},
          "execution_count": 7
        }
      ]
    },
    {
      "cell_type": "code",
      "source": [
        "# getting some info about the data\n",
        "Employee_data.info()"
      ],
      "metadata": {
        "colab": {
          "base_uri": "https://localhost:8080/"
        },
        "id": "EqIGh7KE66CO",
        "outputId": "7dc1e471-3913-4480-c679-3d7aa28838d5"
      },
      "execution_count": 8,
      "outputs": [
        {
          "output_type": "stream",
          "name": "stdout",
          "text": [
            "<class 'pandas.core.frame.DataFrame'>\n",
            "RangeIndex: 354 entries, 0 to 353\n",
            "Data columns (total 25 columns):\n",
            " #   Column                   Non-Null Count  Dtype  \n",
            "---  ------                   --------------  -----  \n",
            " 0    EMP_ID                  354 non-null    float64\n",
            " 1    Emp Name                354 non-null    object \n",
            " 2   Age                      354 non-null    float64\n",
            " 3   Gender                   354 non-null    object \n",
            " 4   Scope of Work            354 non-null    object \n",
            " 5   Skill of employee        354 non-null    object \n",
            " 6   Experience(Years)        354 non-null    float64\n",
            " 7   Heart Beat(BPM)          354 non-null    float64\n",
            " 8   Temperature              354 non-null    float64\n",
            " 9   RFID Tag                 354 non-null    object \n",
            " 10  Site                     354 non-null    object \n",
            " 11  Time In                  354 non-null    object \n",
            " 12  Time Out                 354 non-null    object \n",
            " 13  Working Hours for Day    354 non-null    object \n",
            " 14  Total Working Hours      354 non-null    float64\n",
            " 15  Working Hours            354 non-null    float64\n",
            " 16  Remaining Working Hours  354 non-null    int64  \n",
            " 17  Bp per Minute            354 non-null    float64\n",
            " 18  Daily wages              354 non-null    float64\n",
            " 19  IoT devices              354 non-null    object \n",
            " 20  MOTION INDICATION        354 non-null    object \n",
            " 21  Noise Detection          354 non-null    object \n",
            " 22  Infrared Sensor          354 non-null    object \n",
            " 23  Gas Sensor               354 non-null    object \n",
            " 24  Productivity             354 non-null    object \n",
            "dtypes: float64(9), int64(1), object(15)\n",
            "memory usage: 69.3+ KB\n"
          ]
        }
      ]
    },
    {
      "cell_type": "code",
      "source": [
        "Employee_data['Age'].value_counts()"
      ],
      "metadata": {
        "colab": {
          "base_uri": "https://localhost:8080/"
        },
        "id": "PhUF-ZkZ9hlW",
        "outputId": "aa72e72e-ca60-4182-af6e-2f0b2d38396a"
      },
      "execution_count": 9,
      "outputs": [
        {
          "output_type": "execute_result",
          "data": {
            "text/plain": [
              "35.0    46\n",
              "30.0    36\n",
              "38.0    26\n",
              "28.0    23\n",
              "32.0    23\n",
              "45.0    21\n",
              "29.0    20\n",
              "24.0    20\n",
              "36.0    19\n",
              "34.0    17\n",
              "25.0    16\n",
              "26.0    13\n",
              "39.0    11\n",
              "40.0     9\n",
              "37.0     9\n",
              "27.0     7\n",
              "31.0     6\n",
              "23.0     6\n",
              "33.0     5\n",
              "20.0     4\n",
              "42.0     4\n",
              "43.0     4\n",
              "44.0     2\n",
              "22.0     2\n",
              "19.0     2\n",
              "48.0     1\n",
              "41.0     1\n",
              "18.0     1\n",
              "Name: Age, dtype: int64"
            ]
          },
          "metadata": {},
          "execution_count": 9
        }
      ]
    },
    {
      "cell_type": "code",
      "source": [
        "Employee_data['Productivity'].value_counts()"
      ],
      "metadata": {
        "colab": {
          "base_uri": "https://localhost:8080/"
        },
        "id": "XWwI1yjV-Jrl",
        "outputId": "5cdebdab-9e02-483e-8492-7619177d0eda"
      },
      "execution_count": 10,
      "outputs": [
        {
          "output_type": "execute_result",
          "data": {
            "text/plain": [
              "excellent     175\n",
              "good          150\n",
              "bad            29\n",
              "Name: Productivity, dtype: int64"
            ]
          },
          "metadata": {},
          "execution_count": 10
        }
      ]
    },
    {
      "cell_type": "code",
      "source": [
        "### Let's Check the skill of employee  present in this Dataset\n",
        "Employee_data['Skill of employee'].value_counts()"
      ],
      "metadata": {
        "colab": {
          "base_uri": "https://localhost:8080/"
        },
        "id": "V8VeBaXpAnzu",
        "outputId": "71a18415-ff55-494f-c7ea-cb1edc2481f4"
      },
      "execution_count": 11,
      "outputs": [
        {
          "output_type": "execute_result",
          "data": {
            "text/plain": [
              "Skilled         186\n",
              "Semi-Skilled     65\n",
              "Un-Skilled       53\n",
              "Unskilled        50\n",
              "Name: Skill of employee, dtype: int64"
            ]
          },
          "metadata": {},
          "execution_count": 11
        }
      ]
    },
    {
      "cell_type": "code",
      "source": [
        "Employee_data.groupby('Productivity').mean()"
      ],
      "metadata": {
        "colab": {
          "base_uri": "https://localhost:8080/",
          "height": 273
        },
        "id": "N8fKA6gQFZhG",
        "outputId": "f32a49ff-97a2-45e3-b524-4637b3c1eb95"
      },
      "execution_count": 12,
      "outputs": [
        {
          "output_type": "execute_result",
          "data": {
            "text/plain": [
              "                   EMP_ID        Age  Experience(Years)  Heart Beat(BPM)  \\\n",
              "Productivity                                                               \n",
              "bad           1034.448276  36.344828          11.586207       102.344828   \n",
              "excellent     1169.205714  32.137143           9.982857       105.931429   \n",
              "good          1214.833333  32.546667           8.940000       104.053333   \n",
              "\n",
              "              Temperature  Total Working Hours  Working Hours  \\\n",
              "Productivity                                                    \n",
              "bad             95.899310               2450.0      32.310345   \n",
              "excellent       95.275543               2450.0      31.417143   \n",
              "good            99.036267               2450.0      32.133333   \n",
              "\n",
              "              Remaining Working Hours  Bp per Minute  Daily wages  \n",
              "Productivity                                                       \n",
              "bad                       2417.689655     107.241379    558.62069  \n",
              "excellent                 2418.582857     110.051429    640.00000  \n",
              "good                      2417.866667     349.540000    632.00000  "
            ],
            "text/html": [
              "\n",
              "  <div id=\"df-614438c7-21cd-4b61-9e72-8903942faa9d\">\n",
              "    <div class=\"colab-df-container\">\n",
              "      <div>\n",
              "<style scoped>\n",
              "    .dataframe tbody tr th:only-of-type {\n",
              "        vertical-align: middle;\n",
              "    }\n",
              "\n",
              "    .dataframe tbody tr th {\n",
              "        vertical-align: top;\n",
              "    }\n",
              "\n",
              "    .dataframe thead th {\n",
              "        text-align: right;\n",
              "    }\n",
              "</style>\n",
              "<table border=\"1\" class=\"dataframe\">\n",
              "  <thead>\n",
              "    <tr style=\"text-align: right;\">\n",
              "      <th></th>\n",
              "      <th>EMP_ID</th>\n",
              "      <th>Age</th>\n",
              "      <th>Experience(Years)</th>\n",
              "      <th>Heart Beat(BPM)</th>\n",
              "      <th>Temperature</th>\n",
              "      <th>Total Working Hours</th>\n",
              "      <th>Working Hours</th>\n",
              "      <th>Remaining Working Hours</th>\n",
              "      <th>Bp per Minute</th>\n",
              "      <th>Daily wages</th>\n",
              "    </tr>\n",
              "    <tr>\n",
              "      <th>Productivity</th>\n",
              "      <th></th>\n",
              "      <th></th>\n",
              "      <th></th>\n",
              "      <th></th>\n",
              "      <th></th>\n",
              "      <th></th>\n",
              "      <th></th>\n",
              "      <th></th>\n",
              "      <th></th>\n",
              "      <th></th>\n",
              "    </tr>\n",
              "  </thead>\n",
              "  <tbody>\n",
              "    <tr>\n",
              "      <th>bad</th>\n",
              "      <td>1034.448276</td>\n",
              "      <td>36.344828</td>\n",
              "      <td>11.586207</td>\n",
              "      <td>102.344828</td>\n",
              "      <td>95.899310</td>\n",
              "      <td>2450.0</td>\n",
              "      <td>32.310345</td>\n",
              "      <td>2417.689655</td>\n",
              "      <td>107.241379</td>\n",
              "      <td>558.62069</td>\n",
              "    </tr>\n",
              "    <tr>\n",
              "      <th>excellent</th>\n",
              "      <td>1169.205714</td>\n",
              "      <td>32.137143</td>\n",
              "      <td>9.982857</td>\n",
              "      <td>105.931429</td>\n",
              "      <td>95.275543</td>\n",
              "      <td>2450.0</td>\n",
              "      <td>31.417143</td>\n",
              "      <td>2418.582857</td>\n",
              "      <td>110.051429</td>\n",
              "      <td>640.00000</td>\n",
              "    </tr>\n",
              "    <tr>\n",
              "      <th>good</th>\n",
              "      <td>1214.833333</td>\n",
              "      <td>32.546667</td>\n",
              "      <td>8.940000</td>\n",
              "      <td>104.053333</td>\n",
              "      <td>99.036267</td>\n",
              "      <td>2450.0</td>\n",
              "      <td>32.133333</td>\n",
              "      <td>2417.866667</td>\n",
              "      <td>349.540000</td>\n",
              "      <td>632.00000</td>\n",
              "    </tr>\n",
              "  </tbody>\n",
              "</table>\n",
              "</div>\n",
              "      <button class=\"colab-df-convert\" onclick=\"convertToInteractive('df-614438c7-21cd-4b61-9e72-8903942faa9d')\"\n",
              "              title=\"Convert this dataframe to an interactive table.\"\n",
              "              style=\"display:none;\">\n",
              "        \n",
              "  <svg xmlns=\"http://www.w3.org/2000/svg\" height=\"24px\"viewBox=\"0 0 24 24\"\n",
              "       width=\"24px\">\n",
              "    <path d=\"M0 0h24v24H0V0z\" fill=\"none\"/>\n",
              "    <path d=\"M18.56 5.44l.94 2.06.94-2.06 2.06-.94-2.06-.94-.94-2.06-.94 2.06-2.06.94zm-11 1L8.5 8.5l.94-2.06 2.06-.94-2.06-.94L8.5 2.5l-.94 2.06-2.06.94zm10 10l.94 2.06.94-2.06 2.06-.94-2.06-.94-.94-2.06-.94 2.06-2.06.94z\"/><path d=\"M17.41 7.96l-1.37-1.37c-.4-.4-.92-.59-1.43-.59-.52 0-1.04.2-1.43.59L10.3 9.45l-7.72 7.72c-.78.78-.78 2.05 0 2.83L4 21.41c.39.39.9.59 1.41.59.51 0 1.02-.2 1.41-.59l7.78-7.78 2.81-2.81c.8-.78.8-2.07 0-2.86zM5.41 20L4 18.59l7.72-7.72 1.47 1.35L5.41 20z\"/>\n",
              "  </svg>\n",
              "      </button>\n",
              "      \n",
              "  <style>\n",
              "    .colab-df-container {\n",
              "      display:flex;\n",
              "      flex-wrap:wrap;\n",
              "      gap: 12px;\n",
              "    }\n",
              "\n",
              "    .colab-df-convert {\n",
              "      background-color: #E8F0FE;\n",
              "      border: none;\n",
              "      border-radius: 50%;\n",
              "      cursor: pointer;\n",
              "      display: none;\n",
              "      fill: #1967D2;\n",
              "      height: 32px;\n",
              "      padding: 0 0 0 0;\n",
              "      width: 32px;\n",
              "    }\n",
              "\n",
              "    .colab-df-convert:hover {\n",
              "      background-color: #E2EBFA;\n",
              "      box-shadow: 0px 1px 2px rgba(60, 64, 67, 0.3), 0px 1px 3px 1px rgba(60, 64, 67, 0.15);\n",
              "      fill: #174EA6;\n",
              "    }\n",
              "\n",
              "    [theme=dark] .colab-df-convert {\n",
              "      background-color: #3B4455;\n",
              "      fill: #D2E3FC;\n",
              "    }\n",
              "\n",
              "    [theme=dark] .colab-df-convert:hover {\n",
              "      background-color: #434B5C;\n",
              "      box-shadow: 0px 1px 3px 1px rgba(0, 0, 0, 0.15);\n",
              "      filter: drop-shadow(0px 1px 2px rgba(0, 0, 0, 0.3));\n",
              "      fill: #FFFFFF;\n",
              "    }\n",
              "  </style>\n",
              "\n",
              "      <script>\n",
              "        const buttonEl =\n",
              "          document.querySelector('#df-614438c7-21cd-4b61-9e72-8903942faa9d button.colab-df-convert');\n",
              "        buttonEl.style.display =\n",
              "          google.colab.kernel.accessAllowed ? 'block' : 'none';\n",
              "\n",
              "        async function convertToInteractive(key) {\n",
              "          const element = document.querySelector('#df-614438c7-21cd-4b61-9e72-8903942faa9d');\n",
              "          const dataTable =\n",
              "            await google.colab.kernel.invokeFunction('convertToInteractive',\n",
              "                                                     [key], {});\n",
              "          if (!dataTable) return;\n",
              "\n",
              "          const docLinkHtml = 'Like what you see? Visit the ' +\n",
              "            '<a target=\"_blank\" href=https://colab.research.google.com/notebooks/data_table.ipynb>data table notebook</a>'\n",
              "            + ' to learn more about interactive tables.';\n",
              "          element.innerHTML = '';\n",
              "          dataTable['output_type'] = 'display_data';\n",
              "          await google.colab.output.renderOutput(dataTable, element);\n",
              "          const docLink = document.createElement('div');\n",
              "          docLink.innerHTML = docLinkHtml;\n",
              "          element.appendChild(docLink);\n",
              "        }\n",
              "      </script>\n",
              "    </div>\n",
              "  </div>\n",
              "  "
            ]
          },
          "metadata": {},
          "execution_count": 12
        }
      ]
    },
    {
      "cell_type": "code",
      "source": [
        "# checking for missing values\n",
        "Employee_data.isnull().sum()"
      ],
      "metadata": {
        "colab": {
          "base_uri": "https://localhost:8080/"
        },
        "id": "Hp3rlU0rFvtU",
        "outputId": "cfb44269-06eb-411e-c26c-f3e52a032abc"
      },
      "execution_count": 13,
      "outputs": [
        {
          "output_type": "execute_result",
          "data": {
            "text/plain": [
              " EMP_ID                    0\n",
              " Emp Name                  0\n",
              "Age                        0\n",
              "Gender                     0\n",
              "Scope of Work              0\n",
              "Skill of employee          0\n",
              "Experience(Years)          0\n",
              "Heart Beat(BPM)            0\n",
              "Temperature                0\n",
              "RFID Tag                   0\n",
              "Site                       0\n",
              "Time In                    0\n",
              "Time Out                   0\n",
              "Working Hours for Day      0\n",
              "Total Working Hours        0\n",
              "Working Hours              0\n",
              "Remaining Working Hours    0\n",
              "Bp per Minute              0\n",
              "Daily wages                0\n",
              "IoT devices                0\n",
              "MOTION INDICATION          0\n",
              "Noise Detection            0\n",
              "Infrared Sensor            0\n",
              "Gas Sensor                 0\n",
              "Productivity               0\n",
              "dtype: int64"
            ]
          },
          "metadata": {},
          "execution_count": 13
        }
      ]
    },
    {
      "cell_type": "markdown",
      "source": [
        "#decision tree\n"
      ],
      "metadata": {
        "id": "7hJJunI0JkBD"
      }
    },
    {
      "cell_type": "code",
      "source": [
        "\n",
        "from sklearn.preprocessing import LabelEncoder\n",
        "labelencoder = LabelEncoder()\n",
        "for i in (1,2,6,7,9,14):\n",
        "    Employee_data.iloc[:,i] = labelencoder.fit_transform(Employee_data.iloc[:,i])\n",
        "    "
      ],
      "metadata": {
        "id": "pdJEMEgrJ7X6"
      },
      "execution_count": 14,
      "outputs": []
    },
    {
      "cell_type": "code",
      "source": [
        "Employee_data['Productivity'] = labelencoder.fit_transform(Employee_data['Productivity']) \n",
        "Employee_data['Skill of employee'] = labelencoder.fit_transform(Employee_data['Skill of employee'])\n",
        "Employee_data['Scope of Work '] = labelencoder.fit_transform(Employee_data['Scope of Work '])\n",
        "Employee_data['Noise Detection'] = labelencoder.fit_transform(Employee_data['Noise Detection'])\n",
        "Employee_data['Infrared Sensor'] = labelencoder.fit_transform(Employee_data['Infrared Sensor'])\n",
        "Employee_data['Gender'] = labelencoder.fit_transform(Employee_data['Gender'])\n",
        "Employee_data['Gas Sensor'] = labelencoder.fit_transform(Employee_data['Gas Sensor'])\n",
        "Employee_data['Daily wages'] = labelencoder.fit_transform(Employee_data['Daily wages'])\n",
        "Employee_data[' EMP_ID'] = labelencoder.fit_transform(Employee_data[' EMP_ID'])\n",
        "Employee_data['Total Working Hours'] = labelencoder.fit_transform(Employee_data['Total Working Hours'])\n",
        "Employee_data['Site'] = labelencoder.fit_transform(Employee_data['Site'])"
      ],
      "metadata": {
        "id": "Ew4gUAlSKO67"
      },
      "execution_count": 15,
      "outputs": []
    },
    {
      "cell_type": "code",
      "source": [
        "Employee_data.dtypes"
      ],
      "metadata": {
        "colab": {
          "base_uri": "https://localhost:8080/"
        },
        "id": "lxM5C5SSK1ZL",
        "outputId": "f7774a30-8ef1-460a-c6e6-1468a2cf40a7"
      },
      "execution_count": 16,
      "outputs": [
        {
          "output_type": "execute_result",
          "data": {
            "text/plain": [
              " EMP_ID                      int64\n",
              " Emp Name                    int64\n",
              "Age                          int64\n",
              "Gender                       int64\n",
              "Scope of Work                int64\n",
              "Skill of employee            int64\n",
              "Experience(Years)            int64\n",
              "Heart Beat(BPM)              int64\n",
              "Temperature                float64\n",
              "RFID Tag                     int64\n",
              "Site                         int64\n",
              "Time In                     object\n",
              "Time Out                    object\n",
              "Working Hours for Day       object\n",
              "Total Working Hours          int64\n",
              "Working Hours              float64\n",
              "Remaining Working Hours      int64\n",
              "Bp per Minute              float64\n",
              "Daily wages                  int64\n",
              "IoT devices                 object\n",
              "MOTION INDICATION           object\n",
              "Noise Detection              int64\n",
              "Infrared Sensor              int64\n",
              "Gas Sensor                   int64\n",
              "Productivity                 int64\n",
              "dtype: object"
            ]
          },
          "metadata": {},
          "execution_count": 16
        }
      ]
    },
    {
      "cell_type": "code",
      "source": [
        "### drop the columns \n",
        "Employee_data.drop(['RFID Tag','Time In','Time Out','MOTION INDICATION','IoT devices ',' Emp Name','Working Hours for Day'], axis = 1, inplace = True)"
      ],
      "metadata": {
        "id": "W66Ac1bxLFZD"
      },
      "execution_count": 17,
      "outputs": []
    },
    {
      "cell_type": "code",
      "source": [
        "colnames = list(Employee_data.columns)\n",
        "predictors = colnames[:17]\n",
        "target = colnames[16]"
      ],
      "metadata": {
        "id": "XTu0bpklLUTa"
      },
      "execution_count": 18,
      "outputs": []
    },
    {
      "cell_type": "code",
      "source": [
        "# Splitting data into training and testing data set\n",
        "\n",
        "from sklearn.model_selection import train_test_split\n",
        "train, test = train_test_split(Employee_data, test_size = 0.3)"
      ],
      "metadata": {
        "id": "9a6uvMHPLpsq"
      },
      "execution_count": 19,
      "outputs": []
    },
    {
      "cell_type": "code",
      "source": [
        "\n",
        "from sklearn.tree import DecisionTreeClassifier as DT"
      ],
      "metadata": {
        "id": "1cXp_migLyLT"
      },
      "execution_count": 20,
      "outputs": []
    },
    {
      "cell_type": "code",
      "source": [],
      "metadata": {
        "id": "KovcIq0ia7sX"
      },
      "execution_count": 20,
      "outputs": []
    },
    {
      "cell_type": "code",
      "source": [
        "help(DT)\n"
      ],
      "metadata": {
        "colab": {
          "base_uri": "https://localhost:8080/"
        },
        "id": "8G7Lv_FYL3jH",
        "outputId": "36591463-cefa-49bf-db5c-d5c3c0aa20cf"
      },
      "execution_count": 21,
      "outputs": [
        {
          "output_type": "stream",
          "name": "stdout",
          "text": [
            "Help on class DecisionTreeClassifier in module sklearn.tree._classes:\n",
            "\n",
            "class DecisionTreeClassifier(sklearn.base.ClassifierMixin, BaseDecisionTree)\n",
            " |  DecisionTreeClassifier(*, criterion='gini', splitter='best', max_depth=None, min_samples_split=2, min_samples_leaf=1, min_weight_fraction_leaf=0.0, max_features=None, random_state=None, max_leaf_nodes=None, min_impurity_decrease=0.0, class_weight=None, ccp_alpha=0.0)\n",
            " |  \n",
            " |  A decision tree classifier.\n",
            " |  \n",
            " |  Read more in the :ref:`User Guide <tree>`.\n",
            " |  \n",
            " |  Parameters\n",
            " |  ----------\n",
            " |  criterion : {\"gini\", \"entropy\"}, default=\"gini\"\n",
            " |      The function to measure the quality of a split. Supported criteria are\n",
            " |      \"gini\" for the Gini impurity and \"entropy\" for the information gain.\n",
            " |  \n",
            " |  splitter : {\"best\", \"random\"}, default=\"best\"\n",
            " |      The strategy used to choose the split at each node. Supported\n",
            " |      strategies are \"best\" to choose the best split and \"random\" to choose\n",
            " |      the best random split.\n",
            " |  \n",
            " |  max_depth : int, default=None\n",
            " |      The maximum depth of the tree. If None, then nodes are expanded until\n",
            " |      all leaves are pure or until all leaves contain less than\n",
            " |      min_samples_split samples.\n",
            " |  \n",
            " |  min_samples_split : int or float, default=2\n",
            " |      The minimum number of samples required to split an internal node:\n",
            " |  \n",
            " |      - If int, then consider `min_samples_split` as the minimum number.\n",
            " |      - If float, then `min_samples_split` is a fraction and\n",
            " |        `ceil(min_samples_split * n_samples)` are the minimum\n",
            " |        number of samples for each split.\n",
            " |  \n",
            " |      .. versionchanged:: 0.18\n",
            " |         Added float values for fractions.\n",
            " |  \n",
            " |  min_samples_leaf : int or float, default=1\n",
            " |      The minimum number of samples required to be at a leaf node.\n",
            " |      A split point at any depth will only be considered if it leaves at\n",
            " |      least ``min_samples_leaf`` training samples in each of the left and\n",
            " |      right branches.  This may have the effect of smoothing the model,\n",
            " |      especially in regression.\n",
            " |  \n",
            " |      - If int, then consider `min_samples_leaf` as the minimum number.\n",
            " |      - If float, then `min_samples_leaf` is a fraction and\n",
            " |        `ceil(min_samples_leaf * n_samples)` are the minimum\n",
            " |        number of samples for each node.\n",
            " |  \n",
            " |      .. versionchanged:: 0.18\n",
            " |         Added float values for fractions.\n",
            " |  \n",
            " |  min_weight_fraction_leaf : float, default=0.0\n",
            " |      The minimum weighted fraction of the sum total of weights (of all\n",
            " |      the input samples) required to be at a leaf node. Samples have\n",
            " |      equal weight when sample_weight is not provided.\n",
            " |  \n",
            " |  max_features : int, float or {\"auto\", \"sqrt\", \"log2\"}, default=None\n",
            " |      The number of features to consider when looking for the best split:\n",
            " |  \n",
            " |          - If int, then consider `max_features` features at each split.\n",
            " |          - If float, then `max_features` is a fraction and\n",
            " |            `int(max_features * n_features)` features are considered at each\n",
            " |            split.\n",
            " |          - If \"auto\", then `max_features=sqrt(n_features)`.\n",
            " |          - If \"sqrt\", then `max_features=sqrt(n_features)`.\n",
            " |          - If \"log2\", then `max_features=log2(n_features)`.\n",
            " |          - If None, then `max_features=n_features`.\n",
            " |  \n",
            " |      Note: the search for a split does not stop until at least one\n",
            " |      valid partition of the node samples is found, even if it requires to\n",
            " |      effectively inspect more than ``max_features`` features.\n",
            " |  \n",
            " |  random_state : int, RandomState instance or None, default=None\n",
            " |      Controls the randomness of the estimator. The features are always\n",
            " |      randomly permuted at each split, even if ``splitter`` is set to\n",
            " |      ``\"best\"``. When ``max_features < n_features``, the algorithm will\n",
            " |      select ``max_features`` at random at each split before finding the best\n",
            " |      split among them. But the best found split may vary across different\n",
            " |      runs, even if ``max_features=n_features``. That is the case, if the\n",
            " |      improvement of the criterion is identical for several splits and one\n",
            " |      split has to be selected at random. To obtain a deterministic behaviour\n",
            " |      during fitting, ``random_state`` has to be fixed to an integer.\n",
            " |      See :term:`Glossary <random_state>` for details.\n",
            " |  \n",
            " |  max_leaf_nodes : int, default=None\n",
            " |      Grow a tree with ``max_leaf_nodes`` in best-first fashion.\n",
            " |      Best nodes are defined as relative reduction in impurity.\n",
            " |      If None then unlimited number of leaf nodes.\n",
            " |  \n",
            " |  min_impurity_decrease : float, default=0.0\n",
            " |      A node will be split if this split induces a decrease of the impurity\n",
            " |      greater than or equal to this value.\n",
            " |  \n",
            " |      The weighted impurity decrease equation is the following::\n",
            " |  \n",
            " |          N_t / N * (impurity - N_t_R / N_t * right_impurity\n",
            " |                              - N_t_L / N_t * left_impurity)\n",
            " |  \n",
            " |      where ``N`` is the total number of samples, ``N_t`` is the number of\n",
            " |      samples at the current node, ``N_t_L`` is the number of samples in the\n",
            " |      left child, and ``N_t_R`` is the number of samples in the right child.\n",
            " |  \n",
            " |      ``N``, ``N_t``, ``N_t_R`` and ``N_t_L`` all refer to the weighted sum,\n",
            " |      if ``sample_weight`` is passed.\n",
            " |  \n",
            " |      .. versionadded:: 0.19\n",
            " |  \n",
            " |  class_weight : dict, list of dict or \"balanced\", default=None\n",
            " |      Weights associated with classes in the form ``{class_label: weight}``.\n",
            " |      If None, all classes are supposed to have weight one. For\n",
            " |      multi-output problems, a list of dicts can be provided in the same\n",
            " |      order as the columns of y.\n",
            " |  \n",
            " |      Note that for multioutput (including multilabel) weights should be\n",
            " |      defined for each class of every column in its own dict. For example,\n",
            " |      for four-class multilabel classification weights should be\n",
            " |      [{0: 1, 1: 1}, {0: 1, 1: 5}, {0: 1, 1: 1}, {0: 1, 1: 1}] instead of\n",
            " |      [{1:1}, {2:5}, {3:1}, {4:1}].\n",
            " |  \n",
            " |      The \"balanced\" mode uses the values of y to automatically adjust\n",
            " |      weights inversely proportional to class frequencies in the input data\n",
            " |      as ``n_samples / (n_classes * np.bincount(y))``\n",
            " |  \n",
            " |      For multi-output, the weights of each column of y will be multiplied.\n",
            " |  \n",
            " |      Note that these weights will be multiplied with sample_weight (passed\n",
            " |      through the fit method) if sample_weight is specified.\n",
            " |  \n",
            " |  ccp_alpha : non-negative float, default=0.0\n",
            " |      Complexity parameter used for Minimal Cost-Complexity Pruning. The\n",
            " |      subtree with the largest cost complexity that is smaller than\n",
            " |      ``ccp_alpha`` will be chosen. By default, no pruning is performed. See\n",
            " |      :ref:`minimal_cost_complexity_pruning` for details.\n",
            " |  \n",
            " |      .. versionadded:: 0.22\n",
            " |  \n",
            " |  Attributes\n",
            " |  ----------\n",
            " |  classes_ : ndarray of shape (n_classes,) or list of ndarray\n",
            " |      The classes labels (single output problem),\n",
            " |      or a list of arrays of class labels (multi-output problem).\n",
            " |  \n",
            " |  feature_importances_ : ndarray of shape (n_features,)\n",
            " |      The impurity-based feature importances.\n",
            " |      The higher, the more important the feature.\n",
            " |      The importance of a feature is computed as the (normalized)\n",
            " |      total reduction of the criterion brought by that feature.  It is also\n",
            " |      known as the Gini importance [4]_.\n",
            " |  \n",
            " |      Warning: impurity-based feature importances can be misleading for\n",
            " |      high cardinality features (many unique values). See\n",
            " |      :func:`sklearn.inspection.permutation_importance` as an alternative.\n",
            " |  \n",
            " |  max_features_ : int\n",
            " |      The inferred value of max_features.\n",
            " |  \n",
            " |  n_classes_ : int or list of int\n",
            " |      The number of classes (for single output problems),\n",
            " |      or a list containing the number of classes for each\n",
            " |      output (for multi-output problems).\n",
            " |  \n",
            " |  n_features_ : int\n",
            " |      The number of features when ``fit`` is performed.\n",
            " |  \n",
            " |      .. deprecated:: 1.0\n",
            " |         `n_features_` is deprecated in 1.0 and will be removed in\n",
            " |         1.2. Use `n_features_in_` instead.\n",
            " |  \n",
            " |  n_features_in_ : int\n",
            " |      Number of features seen during :term:`fit`.\n",
            " |  \n",
            " |      .. versionadded:: 0.24\n",
            " |  \n",
            " |  feature_names_in_ : ndarray of shape (`n_features_in_`,)\n",
            " |      Names of features seen during :term:`fit`. Defined only when `X`\n",
            " |      has feature names that are all strings.\n",
            " |  \n",
            " |      .. versionadded:: 1.0\n",
            " |  \n",
            " |  n_outputs_ : int\n",
            " |      The number of outputs when ``fit`` is performed.\n",
            " |  \n",
            " |  tree_ : Tree instance\n",
            " |      The underlying Tree object. Please refer to\n",
            " |      ``help(sklearn.tree._tree.Tree)`` for attributes of Tree object and\n",
            " |      :ref:`sphx_glr_auto_examples_tree_plot_unveil_tree_structure.py`\n",
            " |      for basic usage of these attributes.\n",
            " |  \n",
            " |  See Also\n",
            " |  --------\n",
            " |  DecisionTreeRegressor : A decision tree regressor.\n",
            " |  \n",
            " |  Notes\n",
            " |  -----\n",
            " |  The default values for the parameters controlling the size of the trees\n",
            " |  (e.g. ``max_depth``, ``min_samples_leaf``, etc.) lead to fully grown and\n",
            " |  unpruned trees which can potentially be very large on some data sets. To\n",
            " |  reduce memory consumption, the complexity and size of the trees should be\n",
            " |  controlled by setting those parameter values.\n",
            " |  \n",
            " |  The :meth:`predict` method operates using the :func:`numpy.argmax`\n",
            " |  function on the outputs of :meth:`predict_proba`. This means that in\n",
            " |  case the highest predicted probabilities are tied, the classifier will\n",
            " |  predict the tied class with the lowest index in :term:`classes_`.\n",
            " |  \n",
            " |  References\n",
            " |  ----------\n",
            " |  \n",
            " |  .. [1] https://en.wikipedia.org/wiki/Decision_tree_learning\n",
            " |  \n",
            " |  .. [2] L. Breiman, J. Friedman, R. Olshen, and C. Stone, \"Classification\n",
            " |         and Regression Trees\", Wadsworth, Belmont, CA, 1984.\n",
            " |  \n",
            " |  .. [3] T. Hastie, R. Tibshirani and J. Friedman. \"Elements of Statistical\n",
            " |         Learning\", Springer, 2009.\n",
            " |  \n",
            " |  .. [4] L. Breiman, and A. Cutler, \"Random Forests\",\n",
            " |         https://www.stat.berkeley.edu/~breiman/RandomForests/cc_home.htm\n",
            " |  \n",
            " |  Examples\n",
            " |  --------\n",
            " |  >>> from sklearn.datasets import load_iris\n",
            " |  >>> from sklearn.model_selection import cross_val_score\n",
            " |  >>> from sklearn.tree import DecisionTreeClassifier\n",
            " |  >>> clf = DecisionTreeClassifier(random_state=0)\n",
            " |  >>> iris = load_iris()\n",
            " |  >>> cross_val_score(clf, iris.data, iris.target, cv=10)\n",
            " |  ...                             # doctest: +SKIP\n",
            " |  ...\n",
            " |  array([ 1.     ,  0.93...,  0.86...,  0.93...,  0.93...,\n",
            " |          0.93...,  0.93...,  1.     ,  0.93...,  1.      ])\n",
            " |  \n",
            " |  Method resolution order:\n",
            " |      DecisionTreeClassifier\n",
            " |      sklearn.base.ClassifierMixin\n",
            " |      BaseDecisionTree\n",
            " |      sklearn.base.MultiOutputMixin\n",
            " |      sklearn.base.BaseEstimator\n",
            " |      builtins.object\n",
            " |  \n",
            " |  Methods defined here:\n",
            " |  \n",
            " |  __init__(self, *, criterion='gini', splitter='best', max_depth=None, min_samples_split=2, min_samples_leaf=1, min_weight_fraction_leaf=0.0, max_features=None, random_state=None, max_leaf_nodes=None, min_impurity_decrease=0.0, class_weight=None, ccp_alpha=0.0)\n",
            " |      Initialize self.  See help(type(self)) for accurate signature.\n",
            " |  \n",
            " |  fit(self, X, y, sample_weight=None, check_input=True, X_idx_sorted='deprecated')\n",
            " |      Build a decision tree classifier from the training set (X, y).\n",
            " |      \n",
            " |      Parameters\n",
            " |      ----------\n",
            " |      X : {array-like, sparse matrix} of shape (n_samples, n_features)\n",
            " |          The training input samples. Internally, it will be converted to\n",
            " |          ``dtype=np.float32`` and if a sparse matrix is provided\n",
            " |          to a sparse ``csc_matrix``.\n",
            " |      \n",
            " |      y : array-like of shape (n_samples,) or (n_samples, n_outputs)\n",
            " |          The target values (class labels) as integers or strings.\n",
            " |      \n",
            " |      sample_weight : array-like of shape (n_samples,), default=None\n",
            " |          Sample weights. If None, then samples are equally weighted. Splits\n",
            " |          that would create child nodes with net zero or negative weight are\n",
            " |          ignored while searching for a split in each node. Splits are also\n",
            " |          ignored if they would result in any single class carrying a\n",
            " |          negative weight in either child node.\n",
            " |      \n",
            " |      check_input : bool, default=True\n",
            " |          Allow to bypass several input checking.\n",
            " |          Don't use this parameter unless you know what you do.\n",
            " |      \n",
            " |      X_idx_sorted : deprecated, default=\"deprecated\"\n",
            " |          This parameter is deprecated and has no effect.\n",
            " |          It will be removed in 1.1 (renaming of 0.26).\n",
            " |      \n",
            " |          .. deprecated:: 0.24\n",
            " |      \n",
            " |      Returns\n",
            " |      -------\n",
            " |      self : DecisionTreeClassifier\n",
            " |          Fitted estimator.\n",
            " |  \n",
            " |  predict_log_proba(self, X)\n",
            " |      Predict class log-probabilities of the input samples X.\n",
            " |      \n",
            " |      Parameters\n",
            " |      ----------\n",
            " |      X : {array-like, sparse matrix} of shape (n_samples, n_features)\n",
            " |          The input samples. Internally, it will be converted to\n",
            " |          ``dtype=np.float32`` and if a sparse matrix is provided\n",
            " |          to a sparse ``csr_matrix``.\n",
            " |      \n",
            " |      Returns\n",
            " |      -------\n",
            " |      proba : ndarray of shape (n_samples, n_classes) or list of n_outputs             such arrays if n_outputs > 1\n",
            " |          The class log-probabilities of the input samples. The order of the\n",
            " |          classes corresponds to that in the attribute :term:`classes_`.\n",
            " |  \n",
            " |  predict_proba(self, X, check_input=True)\n",
            " |      Predict class probabilities of the input samples X.\n",
            " |      \n",
            " |      The predicted class probability is the fraction of samples of the same\n",
            " |      class in a leaf.\n",
            " |      \n",
            " |      Parameters\n",
            " |      ----------\n",
            " |      X : {array-like, sparse matrix} of shape (n_samples, n_features)\n",
            " |          The input samples. Internally, it will be converted to\n",
            " |          ``dtype=np.float32`` and if a sparse matrix is provided\n",
            " |          to a sparse ``csr_matrix``.\n",
            " |      \n",
            " |      check_input : bool, default=True\n",
            " |          Allow to bypass several input checking.\n",
            " |          Don't use this parameter unless you know what you do.\n",
            " |      \n",
            " |      Returns\n",
            " |      -------\n",
            " |      proba : ndarray of shape (n_samples, n_classes) or list of n_outputs             such arrays if n_outputs > 1\n",
            " |          The class probabilities of the input samples. The order of the\n",
            " |          classes corresponds to that in the attribute :term:`classes_`.\n",
            " |  \n",
            " |  ----------------------------------------------------------------------\n",
            " |  Readonly properties defined here:\n",
            " |  \n",
            " |  n_features_\n",
            " |      DEPRECATED: The attribute `n_features_` is deprecated in 1.0 and will be removed in 1.2. Use `n_features_in_` instead.\n",
            " |  \n",
            " |  ----------------------------------------------------------------------\n",
            " |  Data and other attributes defined here:\n",
            " |  \n",
            " |  __abstractmethods__ = frozenset()\n",
            " |  \n",
            " |  ----------------------------------------------------------------------\n",
            " |  Methods inherited from sklearn.base.ClassifierMixin:\n",
            " |  \n",
            " |  score(self, X, y, sample_weight=None)\n",
            " |      Return the mean accuracy on the given test data and labels.\n",
            " |      \n",
            " |      In multi-label classification, this is the subset accuracy\n",
            " |      which is a harsh metric since you require for each sample that\n",
            " |      each label set be correctly predicted.\n",
            " |      \n",
            " |      Parameters\n",
            " |      ----------\n",
            " |      X : array-like of shape (n_samples, n_features)\n",
            " |          Test samples.\n",
            " |      \n",
            " |      y : array-like of shape (n_samples,) or (n_samples, n_outputs)\n",
            " |          True labels for `X`.\n",
            " |      \n",
            " |      sample_weight : array-like of shape (n_samples,), default=None\n",
            " |          Sample weights.\n",
            " |      \n",
            " |      Returns\n",
            " |      -------\n",
            " |      score : float\n",
            " |          Mean accuracy of ``self.predict(X)`` wrt. `y`.\n",
            " |  \n",
            " |  ----------------------------------------------------------------------\n",
            " |  Data descriptors inherited from sklearn.base.ClassifierMixin:\n",
            " |  \n",
            " |  __dict__\n",
            " |      dictionary for instance variables (if defined)\n",
            " |  \n",
            " |  __weakref__\n",
            " |      list of weak references to the object (if defined)\n",
            " |  \n",
            " |  ----------------------------------------------------------------------\n",
            " |  Methods inherited from BaseDecisionTree:\n",
            " |  \n",
            " |  apply(self, X, check_input=True)\n",
            " |      Return the index of the leaf that each sample is predicted as.\n",
            " |      \n",
            " |      .. versionadded:: 0.17\n",
            " |      \n",
            " |      Parameters\n",
            " |      ----------\n",
            " |      X : {array-like, sparse matrix} of shape (n_samples, n_features)\n",
            " |          The input samples. Internally, it will be converted to\n",
            " |          ``dtype=np.float32`` and if a sparse matrix is provided\n",
            " |          to a sparse ``csr_matrix``.\n",
            " |      \n",
            " |      check_input : bool, default=True\n",
            " |          Allow to bypass several input checking.\n",
            " |          Don't use this parameter unless you know what you do.\n",
            " |      \n",
            " |      Returns\n",
            " |      -------\n",
            " |      X_leaves : array-like of shape (n_samples,)\n",
            " |          For each datapoint x in X, return the index of the leaf x\n",
            " |          ends up in. Leaves are numbered within\n",
            " |          ``[0; self.tree_.node_count)``, possibly with gaps in the\n",
            " |          numbering.\n",
            " |  \n",
            " |  cost_complexity_pruning_path(self, X, y, sample_weight=None)\n",
            " |      Compute the pruning path during Minimal Cost-Complexity Pruning.\n",
            " |      \n",
            " |      See :ref:`minimal_cost_complexity_pruning` for details on the pruning\n",
            " |      process.\n",
            " |      \n",
            " |      Parameters\n",
            " |      ----------\n",
            " |      X : {array-like, sparse matrix} of shape (n_samples, n_features)\n",
            " |          The training input samples. Internally, it will be converted to\n",
            " |          ``dtype=np.float32`` and if a sparse matrix is provided\n",
            " |          to a sparse ``csc_matrix``.\n",
            " |      \n",
            " |      y : array-like of shape (n_samples,) or (n_samples, n_outputs)\n",
            " |          The target values (class labels) as integers or strings.\n",
            " |      \n",
            " |      sample_weight : array-like of shape (n_samples,), default=None\n",
            " |          Sample weights. If None, then samples are equally weighted. Splits\n",
            " |          that would create child nodes with net zero or negative weight are\n",
            " |          ignored while searching for a split in each node. Splits are also\n",
            " |          ignored if they would result in any single class carrying a\n",
            " |          negative weight in either child node.\n",
            " |      \n",
            " |      Returns\n",
            " |      -------\n",
            " |      ccp_path : :class:`~sklearn.utils.Bunch`\n",
            " |          Dictionary-like object, with the following attributes.\n",
            " |      \n",
            " |          ccp_alphas : ndarray\n",
            " |              Effective alphas of subtree during pruning.\n",
            " |      \n",
            " |          impurities : ndarray\n",
            " |              Sum of the impurities of the subtree leaves for the\n",
            " |              corresponding alpha value in ``ccp_alphas``.\n",
            " |  \n",
            " |  decision_path(self, X, check_input=True)\n",
            " |      Return the decision path in the tree.\n",
            " |      \n",
            " |      .. versionadded:: 0.18\n",
            " |      \n",
            " |      Parameters\n",
            " |      ----------\n",
            " |      X : {array-like, sparse matrix} of shape (n_samples, n_features)\n",
            " |          The input samples. Internally, it will be converted to\n",
            " |          ``dtype=np.float32`` and if a sparse matrix is provided\n",
            " |          to a sparse ``csr_matrix``.\n",
            " |      \n",
            " |      check_input : bool, default=True\n",
            " |          Allow to bypass several input checking.\n",
            " |          Don't use this parameter unless you know what you do.\n",
            " |      \n",
            " |      Returns\n",
            " |      -------\n",
            " |      indicator : sparse matrix of shape (n_samples, n_nodes)\n",
            " |          Return a node indicator CSR matrix where non zero elements\n",
            " |          indicates that the samples goes through the nodes.\n",
            " |  \n",
            " |  get_depth(self)\n",
            " |      Return the depth of the decision tree.\n",
            " |      \n",
            " |      The depth of a tree is the maximum distance between the root\n",
            " |      and any leaf.\n",
            " |      \n",
            " |      Returns\n",
            " |      -------\n",
            " |      self.tree_.max_depth : int\n",
            " |          The maximum depth of the tree.\n",
            " |  \n",
            " |  get_n_leaves(self)\n",
            " |      Return the number of leaves of the decision tree.\n",
            " |      \n",
            " |      Returns\n",
            " |      -------\n",
            " |      self.tree_.n_leaves : int\n",
            " |          Number of leaves.\n",
            " |  \n",
            " |  predict(self, X, check_input=True)\n",
            " |      Predict class or regression value for X.\n",
            " |      \n",
            " |      For a classification model, the predicted class for each sample in X is\n",
            " |      returned. For a regression model, the predicted value based on X is\n",
            " |      returned.\n",
            " |      \n",
            " |      Parameters\n",
            " |      ----------\n",
            " |      X : {array-like, sparse matrix} of shape (n_samples, n_features)\n",
            " |          The input samples. Internally, it will be converted to\n",
            " |          ``dtype=np.float32`` and if a sparse matrix is provided\n",
            " |          to a sparse ``csr_matrix``.\n",
            " |      \n",
            " |      check_input : bool, default=True\n",
            " |          Allow to bypass several input checking.\n",
            " |          Don't use this parameter unless you know what you do.\n",
            " |      \n",
            " |      Returns\n",
            " |      -------\n",
            " |      y : array-like of shape (n_samples,) or (n_samples, n_outputs)\n",
            " |          The predicted classes, or the predict values.\n",
            " |  \n",
            " |  ----------------------------------------------------------------------\n",
            " |  Readonly properties inherited from BaseDecisionTree:\n",
            " |  \n",
            " |  feature_importances_\n",
            " |      Return the feature importances.\n",
            " |      \n",
            " |      The importance of a feature is computed as the (normalized) total\n",
            " |      reduction of the criterion brought by that feature.\n",
            " |      It is also known as the Gini importance.\n",
            " |      \n",
            " |      Warning: impurity-based feature importances can be misleading for\n",
            " |      high cardinality features (many unique values). See\n",
            " |      :func:`sklearn.inspection.permutation_importance` as an alternative.\n",
            " |      \n",
            " |      Returns\n",
            " |      -------\n",
            " |      feature_importances_ : ndarray of shape (n_features,)\n",
            " |          Normalized total reduction of criteria by feature\n",
            " |          (Gini importance).\n",
            " |  \n",
            " |  ----------------------------------------------------------------------\n",
            " |  Methods inherited from sklearn.base.BaseEstimator:\n",
            " |  \n",
            " |  __getstate__(self)\n",
            " |  \n",
            " |  __repr__(self, N_CHAR_MAX=700)\n",
            " |      Return repr(self).\n",
            " |  \n",
            " |  __setstate__(self, state)\n",
            " |  \n",
            " |  get_params(self, deep=True)\n",
            " |      Get parameters for this estimator.\n",
            " |      \n",
            " |      Parameters\n",
            " |      ----------\n",
            " |      deep : bool, default=True\n",
            " |          If True, will return the parameters for this estimator and\n",
            " |          contained subobjects that are estimators.\n",
            " |      \n",
            " |      Returns\n",
            " |      -------\n",
            " |      params : dict\n",
            " |          Parameter names mapped to their values.\n",
            " |  \n",
            " |  set_params(self, **params)\n",
            " |      Set the parameters of this estimator.\n",
            " |      \n",
            " |      The method works on simple estimators as well as on nested objects\n",
            " |      (such as :class:`~sklearn.pipeline.Pipeline`). The latter have\n",
            " |      parameters of the form ``<component>__<parameter>`` so that it's\n",
            " |      possible to update each component of a nested object.\n",
            " |      \n",
            " |      Parameters\n",
            " |      ----------\n",
            " |      **params : dict\n",
            " |          Estimator parameters.\n",
            " |      \n",
            " |      Returns\n",
            " |      -------\n",
            " |      self : estimator instance\n",
            " |          Estimator instance.\n",
            "\n"
          ]
        }
      ]
    },
    {
      "cell_type": "code",
      "source": [
        "model = DT(criterion = 'entropy')"
      ],
      "metadata": {
        "id": "RsGJnFtePupA"
      },
      "execution_count": 22,
      "outputs": []
    },
    {
      "cell_type": "code",
      "source": [
        "model.fit(train[predictors], train[target])"
      ],
      "metadata": {
        "colab": {
          "base_uri": "https://localhost:8080/"
        },
        "id": "0A3dMk1GRv6X",
        "outputId": "91279916-7f21-4d77-9ebb-e3e21523c9de"
      },
      "execution_count": 23,
      "outputs": [
        {
          "output_type": "execute_result",
          "data": {
            "text/plain": [
              "DecisionTreeClassifier(criterion='entropy')"
            ]
          },
          "metadata": {},
          "execution_count": 23
        }
      ]
    },
    {
      "cell_type": "code",
      "source": [
        "## Prediction on Test Data\n",
        "preds = model. predict(test[predictors])\n",
        "pd.crosstab(test[target], preds, rownames=['Actual'], colnames=['Predictions'])\n",
        "np.mean(preds == test[target]) # Test Data Accuracy "
      ],
      "metadata": {
        "colab": {
          "base_uri": "https://localhost:8080/"
        },
        "id": "lVRFdZGRSgDa",
        "outputId": "e224fc21-3f1f-43c8-9eb3-9f78541449f3"
      },
      "execution_count": 24,
      "outputs": [
        {
          "output_type": "execute_result",
          "data": {
            "text/plain": [
              "1.0"
            ]
          },
          "metadata": {},
          "execution_count": 24
        }
      ]
    },
    {
      "cell_type": "code",
      "source": [
        "# Prediction on Train Data\n",
        "preds = model.predict(train[predictors])\n",
        "pd.crosstab(train[target], preds, rownames = ['Actual'], colnames = ['Predictions'])\n",
        "np.mean(preds == train[target])"
      ],
      "metadata": {
        "colab": {
          "base_uri": "https://localhost:8080/"
        },
        "id": "v9AHQkuxSjdL",
        "outputId": "23ae669c-d1e2-4efe-adb5-87dd5f7b78c5"
      },
      "execution_count": 25,
      "outputs": [
        {
          "output_type": "execute_result",
          "data": {
            "text/plain": [
              "1.0"
            ]
          },
          "metadata": {},
          "execution_count": 25
        }
      ]
    },
    {
      "cell_type": "markdown",
      "source": [
        "######\n",
        "# GridSearchCV"
      ],
      "metadata": {
        "id": "_jT8iP5BSyM1"
      }
    },
    {
      "cell_type": "code",
      "source": [
        "\n",
        "from sklearn. model_selection import GridSearchCV"
      ],
      "metadata": {
        "id": "WLDcFK_eS0-l"
      },
      "execution_count": 26,
      "outputs": []
    },
    {
      "cell_type": "code",
      "source": [
        "\n",
        "model = DT(criterion = 'entropy')"
      ],
      "metadata": {
        "id": "00QViSt1S5oA"
      },
      "execution_count": 27,
      "outputs": []
    },
    {
      "cell_type": "code",
      "source": [
        "param_grid = {'min_weight_fraction_leaf': [0.1,0.2,0.3,0.4],\n",
        "              'max_depth': [2,4,6,8,10],\n",
        "             'max_features': ['log2']}"
      ],
      "metadata": {
        "id": "YFr3vcaPS9g7"
      },
      "execution_count": 28,
      "outputs": []
    },
    {
      "cell_type": "code",
      "source": [
        "grid_search = GridSearchCV(estimator = model, param_grid = param_grid,\n",
        "                           scoring = 'accuracy', n_jobs = -1, cv = 5,\n",
        "                           refit = True, return_train_score = True)\n"
      ],
      "metadata": {
        "id": "raSdzoi8TEtS"
      },
      "execution_count": 29,
      "outputs": []
    },
    {
      "cell_type": "code",
      "source": [
        "grid_search.fit(train[predictors], train[target])"
      ],
      "metadata": {
        "colab": {
          "base_uri": "https://localhost:8080/"
        },
        "id": "p-cYcImcTGV0",
        "outputId": "26302beb-3e56-422a-d5ec-6896ea1fee78"
      },
      "execution_count": 30,
      "outputs": [
        {
          "output_type": "execute_result",
          "data": {
            "text/plain": [
              "GridSearchCV(cv=5, estimator=DecisionTreeClassifier(criterion='entropy'),\n",
              "             n_jobs=-1,\n",
              "             param_grid={'max_depth': [2, 4, 6, 8, 10],\n",
              "                         'max_features': ['log2'],\n",
              "                         'min_weight_fraction_leaf': [0.1, 0.2, 0.3, 0.4]},\n",
              "             return_train_score=True, scoring='accuracy')"
            ]
          },
          "metadata": {},
          "execution_count": 30
        }
      ]
    },
    {
      "cell_type": "code",
      "source": [
        "\n",
        "grid_search.best_params_"
      ],
      "metadata": {
        "colab": {
          "base_uri": "https://localhost:8080/"
        },
        "id": "x8r-g4pJTLrO",
        "outputId": "e0997ebb-c9e7-4ae0-eb9a-3c6b2fc3ba72"
      },
      "execution_count": 31,
      "outputs": [
        {
          "output_type": "execute_result",
          "data": {
            "text/plain": [
              "{'max_depth': 10, 'max_features': 'log2', 'min_weight_fraction_leaf': 0.1}"
            ]
          },
          "metadata": {},
          "execution_count": 31
        }
      ]
    },
    {
      "cell_type": "code",
      "source": [
        "cv_dt_clf_grid = grid_search.best_estimator_"
      ],
      "metadata": {
        "id": "FQOa3ftiTO4e"
      },
      "execution_count": 32,
      "outputs": []
    },
    {
      "cell_type": "code",
      "source": [
        "from sklearn.metrics import accuracy_score, confusion_matrix"
      ],
      "metadata": {
        "id": "AW7uOS1lTSJ7"
      },
      "execution_count": 33,
      "outputs": []
    },
    {
      "cell_type": "markdown",
      "source": [
        "Model Evaluation\n",
        "\n",
        "Accuracy Score"
      ],
      "metadata": {
        "id": "LCKsDmUUVA_4"
      }
    },
    {
      "cell_type": "code",
      "source": [
        "# Evaluation on Testing Data\n",
        "confusion_matrix(test[target], cv_dt_clf_grid.predict(test[predictors]))\n",
        "accuracy_score(test[target], cv_dt_clf_grid.predict(test[predictors]))"
      ],
      "metadata": {
        "colab": {
          "base_uri": "https://localhost:8080/"
        },
        "id": "RTdhxBF1TbLL",
        "outputId": "8a7c32a2-b43c-4591-8a1b-5e35e737bfc7"
      },
      "execution_count": 34,
      "outputs": [
        {
          "output_type": "execute_result",
          "data": {
            "text/plain": [
              "1.0"
            ]
          },
          "metadata": {},
          "execution_count": 34
        }
      ]
    },
    {
      "cell_type": "code",
      "source": [
        "# Evaluation on Training Data\n",
        "confusion_matrix(train[target], cv_dt_clf_grid.predict(train[predictors]))\n",
        "accuracy_score(train[target], cv_dt_clf_grid.predict(train[predictors]))"
      ],
      "metadata": {
        "colab": {
          "base_uri": "https://localhost:8080/"
        },
        "id": "ixBBTPjZTfHO",
        "outputId": "bfd644ec-a14a-49d4-f49e-f27710bbab33"
      },
      "execution_count": 35,
      "outputs": [
        {
          "output_type": "execute_result",
          "data": {
            "text/plain": [
              "1.0"
            ]
          },
          "metadata": {},
          "execution_count": 35
        }
      ]
    },
    {
      "cell_type": "code",
      "source": [
        "##RMSE value\n",
        "\n",
        "from sklearn.tree import DecisionTreeRegressor\n",
        "from sklearn.metrics import mean_squared_error\n",
        "from sklearn.tree import DecisionTreeClassifier\n",
        "import time"
      ],
      "metadata": {
        "id": "YIhtXziKZD2T"
      },
      "execution_count": 36,
      "outputs": []
    },
    {
      "cell_type": "code",
      "source": [
        "#create the Regressor\n",
        "Employee_data.corr()"
      ],
      "metadata": {
        "colab": {
          "base_uri": "https://localhost:8080/",
          "height": 0
        },
        "id": "rq4gnX2VZGw3",
        "outputId": "110f9f59-f26b-4ba7-9c96-7afc5e9b7cd4"
      },
      "execution_count": 37,
      "outputs": [
        {
          "output_type": "execute_result",
          "data": {
            "text/plain": [
              "                           EMP_ID       Age    Gender  Scope of Work   \\\n",
              " EMP_ID                  1.000000 -0.296191 -0.042930       -0.026517   \n",
              "Age                     -0.296191  1.000000 -0.026182        0.085985   \n",
              "Gender                  -0.042930 -0.026182  1.000000       -0.129461   \n",
              "Scope of Work           -0.026517  0.085985 -0.129461        1.000000   \n",
              "Skill of employee        0.310732 -0.104688  0.058588       -0.106473   \n",
              "Experience(Years)       -0.160499  0.331082 -0.054683        0.060566   \n",
              "Heart Beat(BPM)         -0.011243 -0.007722 -0.064891        0.006925   \n",
              "Temperature             -0.022325  0.086240  0.009012        0.050042   \n",
              "Site                     0.007130  0.034019  0.049088       -0.048940   \n",
              "Total Working Hours           NaN       NaN       NaN             NaN   \n",
              "Working Hours            0.020297  0.062749 -0.028653        0.010212   \n",
              "Remaining Working Hours -0.020297 -0.062749  0.028653       -0.010212   \n",
              "Bp per Minute            0.359806 -0.074991  0.097554        0.110961   \n",
              "Daily wages              0.010553 -0.026791  0.204070       -0.195121   \n",
              "Noise Detection         -0.008130  0.013881 -0.035343       -0.128186   \n",
              "Infrared Sensor         -0.001881  0.036301  0.025545        0.069195   \n",
              "Gas Sensor              -0.034191 -0.000119 -0.058714        0.048029   \n",
              "Productivity             0.432166 -0.092177  0.154149        0.002184   \n",
              "\n",
              "                         Skill of employee  Experience(Years)  \\\n",
              " EMP_ID                           0.310732          -0.160499   \n",
              "Age                              -0.104688           0.331082   \n",
              "Gender                            0.058588          -0.054683   \n",
              "Scope of Work                    -0.106473           0.060566   \n",
              "Skill of employee                 1.000000          -0.092043   \n",
              "Experience(Years)                -0.092043           1.000000   \n",
              "Heart Beat(BPM)                  -0.076117          -0.068889   \n",
              "Temperature                       0.052375          -0.016118   \n",
              "Site                             -0.038939          -0.047441   \n",
              "Total Working Hours                    NaN                NaN   \n",
              "Working Hours                     0.052732           0.075771   \n",
              "Remaining Working Hours          -0.052732          -0.075771   \n",
              "Bp per Minute                     0.119521          -0.142191   \n",
              "Daily wages                       0.018889          -0.087693   \n",
              "Noise Detection                   0.020040          -0.109858   \n",
              "Infrared Sensor                  -0.041668          -0.027275   \n",
              "Gas Sensor                       -0.058990           0.034943   \n",
              "Productivity                      0.083813          -0.130421   \n",
              "\n",
              "                         Heart Beat(BPM)  Temperature      Site  \\\n",
              " EMP_ID                        -0.011243    -0.022325  0.007130   \n",
              "Age                            -0.007722     0.086240  0.034019   \n",
              "Gender                         -0.064891     0.009012  0.049088   \n",
              "Scope of Work                   0.006925     0.050042 -0.048940   \n",
              "Skill of employee              -0.076117     0.052375 -0.038939   \n",
              "Experience(Years)              -0.068889    -0.016118 -0.047441   \n",
              "Heart Beat(BPM)                 1.000000     0.118353  0.006213   \n",
              "Temperature                     0.118353     1.000000  0.111951   \n",
              "Site                            0.006213     0.111951  1.000000   \n",
              "Total Working Hours                  NaN          NaN       NaN   \n",
              "Working Hours                   0.082694     0.012317 -0.070835   \n",
              "Remaining Working Hours        -0.082694    -0.012317  0.070835   \n",
              "Bp per Minute                  -0.053035    -0.016521 -0.013911   \n",
              "Daily wages                    -0.047320     0.033150  0.068721   \n",
              "Noise Detection                 0.039161     0.049742  0.044578   \n",
              "Infrared Sensor                 0.088331    -0.022172  0.047860   \n",
              "Gas Sensor                      0.017033     0.037845  0.020600   \n",
              "Productivity                   -0.005215     0.141875  0.031264   \n",
              "\n",
              "                         Total Working Hours  Working Hours  \\\n",
              " EMP_ID                                  NaN       0.020297   \n",
              "Age                                      NaN       0.062749   \n",
              "Gender                                   NaN      -0.028653   \n",
              "Scope of Work                            NaN       0.010212   \n",
              "Skill of employee                        NaN       0.052732   \n",
              "Experience(Years)                        NaN       0.075771   \n",
              "Heart Beat(BPM)                          NaN       0.082694   \n",
              "Temperature                              NaN       0.012317   \n",
              "Site                                     NaN      -0.070835   \n",
              "Total Working Hours                      NaN            NaN   \n",
              "Working Hours                            NaN       1.000000   \n",
              "Remaining Working Hours                  NaN      -1.000000   \n",
              "Bp per Minute                            NaN      -0.014853   \n",
              "Daily wages                              NaN      -0.023499   \n",
              "Noise Detection                          NaN      -0.006902   \n",
              "Infrared Sensor                          NaN      -0.052773   \n",
              "Gas Sensor                               NaN      -0.114976   \n",
              "Productivity                             NaN       0.013688   \n",
              "\n",
              "                         Remaining Working Hours  Bp per Minute  Daily wages  \\\n",
              " EMP_ID                                -0.020297       0.359806     0.010553   \n",
              "Age                                    -0.062749      -0.074991    -0.026791   \n",
              "Gender                                  0.028653       0.097554     0.204070   \n",
              "Scope of Work                          -0.010212       0.110961    -0.195121   \n",
              "Skill of employee                      -0.052732       0.119521     0.018889   \n",
              "Experience(Years)                      -0.075771      -0.142191    -0.087693   \n",
              "Heart Beat(BPM)                        -0.082694      -0.053035    -0.047320   \n",
              "Temperature                            -0.012317      -0.016521     0.033150   \n",
              "Site                                    0.070835      -0.013911     0.068721   \n",
              "Total Working Hours                          NaN            NaN          NaN   \n",
              "Working Hours                          -1.000000      -0.014853    -0.023499   \n",
              "Remaining Working Hours                 1.000000       0.014853     0.023499   \n",
              "Bp per Minute                           0.014853       1.000000    -0.038195   \n",
              "Daily wages                             0.023499      -0.038195     1.000000   \n",
              "Noise Detection                         0.006902       0.002724     0.031557   \n",
              "Infrared Sensor                         0.052773      -0.062360    -0.033267   \n",
              "Gas Sensor                              0.114976      -0.063747    -0.193499   \n",
              "Productivity                           -0.013688       0.227014     0.147560   \n",
              "\n",
              "                         Noise Detection  Infrared Sensor  Gas Sensor  \\\n",
              " EMP_ID                        -0.008130        -0.001881   -0.034191   \n",
              "Age                             0.013881         0.036301   -0.000119   \n",
              "Gender                         -0.035343         0.025545   -0.058714   \n",
              "Scope of Work                  -0.128186         0.069195    0.048029   \n",
              "Skill of employee               0.020040        -0.041668   -0.058990   \n",
              "Experience(Years)              -0.109858        -0.027275    0.034943   \n",
              "Heart Beat(BPM)                 0.039161         0.088331    0.017033   \n",
              "Temperature                     0.049742        -0.022172    0.037845   \n",
              "Site                            0.044578         0.047860    0.020600   \n",
              "Total Working Hours                  NaN              NaN         NaN   \n",
              "Working Hours                  -0.006902        -0.052773   -0.114976   \n",
              "Remaining Working Hours         0.006902         0.052773    0.114976   \n",
              "Bp per Minute                   0.002724        -0.062360   -0.063747   \n",
              "Daily wages                     0.031557        -0.033267   -0.193499   \n",
              "Noise Detection                 1.000000         0.052026    0.009097   \n",
              "Infrared Sensor                 0.052026         1.000000    0.071203   \n",
              "Gas Sensor                      0.009097         0.071203    1.000000   \n",
              "Productivity                   -0.061554         0.010041   -0.024674   \n",
              "\n",
              "                         Productivity  \n",
              " EMP_ID                      0.432166  \n",
              "Age                         -0.092177  \n",
              "Gender                       0.154149  \n",
              "Scope of Work                0.002184  \n",
              "Skill of employee            0.083813  \n",
              "Experience(Years)           -0.130421  \n",
              "Heart Beat(BPM)             -0.005215  \n",
              "Temperature                  0.141875  \n",
              "Site                         0.031264  \n",
              "Total Working Hours               NaN  \n",
              "Working Hours                0.013688  \n",
              "Remaining Working Hours     -0.013688  \n",
              "Bp per Minute                0.227014  \n",
              "Daily wages                  0.147560  \n",
              "Noise Detection             -0.061554  \n",
              "Infrared Sensor              0.010041  \n",
              "Gas Sensor                  -0.024674  \n",
              "Productivity                 1.000000  "
            ],
            "text/html": [
              "\n",
              "  <div id=\"df-6b17217f-4903-4e43-af76-beee8b666c82\">\n",
              "    <div class=\"colab-df-container\">\n",
              "      <div>\n",
              "<style scoped>\n",
              "    .dataframe tbody tr th:only-of-type {\n",
              "        vertical-align: middle;\n",
              "    }\n",
              "\n",
              "    .dataframe tbody tr th {\n",
              "        vertical-align: top;\n",
              "    }\n",
              "\n",
              "    .dataframe thead th {\n",
              "        text-align: right;\n",
              "    }\n",
              "</style>\n",
              "<table border=\"1\" class=\"dataframe\">\n",
              "  <thead>\n",
              "    <tr style=\"text-align: right;\">\n",
              "      <th></th>\n",
              "      <th>EMP_ID</th>\n",
              "      <th>Age</th>\n",
              "      <th>Gender</th>\n",
              "      <th>Scope of Work</th>\n",
              "      <th>Skill of employee</th>\n",
              "      <th>Experience(Years)</th>\n",
              "      <th>Heart Beat(BPM)</th>\n",
              "      <th>Temperature</th>\n",
              "      <th>Site</th>\n",
              "      <th>Total Working Hours</th>\n",
              "      <th>Working Hours</th>\n",
              "      <th>Remaining Working Hours</th>\n",
              "      <th>Bp per Minute</th>\n",
              "      <th>Daily wages</th>\n",
              "      <th>Noise Detection</th>\n",
              "      <th>Infrared Sensor</th>\n",
              "      <th>Gas Sensor</th>\n",
              "      <th>Productivity</th>\n",
              "    </tr>\n",
              "  </thead>\n",
              "  <tbody>\n",
              "    <tr>\n",
              "      <th>EMP_ID</th>\n",
              "      <td>1.000000</td>\n",
              "      <td>-0.296191</td>\n",
              "      <td>-0.042930</td>\n",
              "      <td>-0.026517</td>\n",
              "      <td>0.310732</td>\n",
              "      <td>-0.160499</td>\n",
              "      <td>-0.011243</td>\n",
              "      <td>-0.022325</td>\n",
              "      <td>0.007130</td>\n",
              "      <td>NaN</td>\n",
              "      <td>0.020297</td>\n",
              "      <td>-0.020297</td>\n",
              "      <td>0.359806</td>\n",
              "      <td>0.010553</td>\n",
              "      <td>-0.008130</td>\n",
              "      <td>-0.001881</td>\n",
              "      <td>-0.034191</td>\n",
              "      <td>0.432166</td>\n",
              "    </tr>\n",
              "    <tr>\n",
              "      <th>Age</th>\n",
              "      <td>-0.296191</td>\n",
              "      <td>1.000000</td>\n",
              "      <td>-0.026182</td>\n",
              "      <td>0.085985</td>\n",
              "      <td>-0.104688</td>\n",
              "      <td>0.331082</td>\n",
              "      <td>-0.007722</td>\n",
              "      <td>0.086240</td>\n",
              "      <td>0.034019</td>\n",
              "      <td>NaN</td>\n",
              "      <td>0.062749</td>\n",
              "      <td>-0.062749</td>\n",
              "      <td>-0.074991</td>\n",
              "      <td>-0.026791</td>\n",
              "      <td>0.013881</td>\n",
              "      <td>0.036301</td>\n",
              "      <td>-0.000119</td>\n",
              "      <td>-0.092177</td>\n",
              "    </tr>\n",
              "    <tr>\n",
              "      <th>Gender</th>\n",
              "      <td>-0.042930</td>\n",
              "      <td>-0.026182</td>\n",
              "      <td>1.000000</td>\n",
              "      <td>-0.129461</td>\n",
              "      <td>0.058588</td>\n",
              "      <td>-0.054683</td>\n",
              "      <td>-0.064891</td>\n",
              "      <td>0.009012</td>\n",
              "      <td>0.049088</td>\n",
              "      <td>NaN</td>\n",
              "      <td>-0.028653</td>\n",
              "      <td>0.028653</td>\n",
              "      <td>0.097554</td>\n",
              "      <td>0.204070</td>\n",
              "      <td>-0.035343</td>\n",
              "      <td>0.025545</td>\n",
              "      <td>-0.058714</td>\n",
              "      <td>0.154149</td>\n",
              "    </tr>\n",
              "    <tr>\n",
              "      <th>Scope of Work</th>\n",
              "      <td>-0.026517</td>\n",
              "      <td>0.085985</td>\n",
              "      <td>-0.129461</td>\n",
              "      <td>1.000000</td>\n",
              "      <td>-0.106473</td>\n",
              "      <td>0.060566</td>\n",
              "      <td>0.006925</td>\n",
              "      <td>0.050042</td>\n",
              "      <td>-0.048940</td>\n",
              "      <td>NaN</td>\n",
              "      <td>0.010212</td>\n",
              "      <td>-0.010212</td>\n",
              "      <td>0.110961</td>\n",
              "      <td>-0.195121</td>\n",
              "      <td>-0.128186</td>\n",
              "      <td>0.069195</td>\n",
              "      <td>0.048029</td>\n",
              "      <td>0.002184</td>\n",
              "    </tr>\n",
              "    <tr>\n",
              "      <th>Skill of employee</th>\n",
              "      <td>0.310732</td>\n",
              "      <td>-0.104688</td>\n",
              "      <td>0.058588</td>\n",
              "      <td>-0.106473</td>\n",
              "      <td>1.000000</td>\n",
              "      <td>-0.092043</td>\n",
              "      <td>-0.076117</td>\n",
              "      <td>0.052375</td>\n",
              "      <td>-0.038939</td>\n",
              "      <td>NaN</td>\n",
              "      <td>0.052732</td>\n",
              "      <td>-0.052732</td>\n",
              "      <td>0.119521</td>\n",
              "      <td>0.018889</td>\n",
              "      <td>0.020040</td>\n",
              "      <td>-0.041668</td>\n",
              "      <td>-0.058990</td>\n",
              "      <td>0.083813</td>\n",
              "    </tr>\n",
              "    <tr>\n",
              "      <th>Experience(Years)</th>\n",
              "      <td>-0.160499</td>\n",
              "      <td>0.331082</td>\n",
              "      <td>-0.054683</td>\n",
              "      <td>0.060566</td>\n",
              "      <td>-0.092043</td>\n",
              "      <td>1.000000</td>\n",
              "      <td>-0.068889</td>\n",
              "      <td>-0.016118</td>\n",
              "      <td>-0.047441</td>\n",
              "      <td>NaN</td>\n",
              "      <td>0.075771</td>\n",
              "      <td>-0.075771</td>\n",
              "      <td>-0.142191</td>\n",
              "      <td>-0.087693</td>\n",
              "      <td>-0.109858</td>\n",
              "      <td>-0.027275</td>\n",
              "      <td>0.034943</td>\n",
              "      <td>-0.130421</td>\n",
              "    </tr>\n",
              "    <tr>\n",
              "      <th>Heart Beat(BPM)</th>\n",
              "      <td>-0.011243</td>\n",
              "      <td>-0.007722</td>\n",
              "      <td>-0.064891</td>\n",
              "      <td>0.006925</td>\n",
              "      <td>-0.076117</td>\n",
              "      <td>-0.068889</td>\n",
              "      <td>1.000000</td>\n",
              "      <td>0.118353</td>\n",
              "      <td>0.006213</td>\n",
              "      <td>NaN</td>\n",
              "      <td>0.082694</td>\n",
              "      <td>-0.082694</td>\n",
              "      <td>-0.053035</td>\n",
              "      <td>-0.047320</td>\n",
              "      <td>0.039161</td>\n",
              "      <td>0.088331</td>\n",
              "      <td>0.017033</td>\n",
              "      <td>-0.005215</td>\n",
              "    </tr>\n",
              "    <tr>\n",
              "      <th>Temperature</th>\n",
              "      <td>-0.022325</td>\n",
              "      <td>0.086240</td>\n",
              "      <td>0.009012</td>\n",
              "      <td>0.050042</td>\n",
              "      <td>0.052375</td>\n",
              "      <td>-0.016118</td>\n",
              "      <td>0.118353</td>\n",
              "      <td>1.000000</td>\n",
              "      <td>0.111951</td>\n",
              "      <td>NaN</td>\n",
              "      <td>0.012317</td>\n",
              "      <td>-0.012317</td>\n",
              "      <td>-0.016521</td>\n",
              "      <td>0.033150</td>\n",
              "      <td>0.049742</td>\n",
              "      <td>-0.022172</td>\n",
              "      <td>0.037845</td>\n",
              "      <td>0.141875</td>\n",
              "    </tr>\n",
              "    <tr>\n",
              "      <th>Site</th>\n",
              "      <td>0.007130</td>\n",
              "      <td>0.034019</td>\n",
              "      <td>0.049088</td>\n",
              "      <td>-0.048940</td>\n",
              "      <td>-0.038939</td>\n",
              "      <td>-0.047441</td>\n",
              "      <td>0.006213</td>\n",
              "      <td>0.111951</td>\n",
              "      <td>1.000000</td>\n",
              "      <td>NaN</td>\n",
              "      <td>-0.070835</td>\n",
              "      <td>0.070835</td>\n",
              "      <td>-0.013911</td>\n",
              "      <td>0.068721</td>\n",
              "      <td>0.044578</td>\n",
              "      <td>0.047860</td>\n",
              "      <td>0.020600</td>\n",
              "      <td>0.031264</td>\n",
              "    </tr>\n",
              "    <tr>\n",
              "      <th>Total Working Hours</th>\n",
              "      <td>NaN</td>\n",
              "      <td>NaN</td>\n",
              "      <td>NaN</td>\n",
              "      <td>NaN</td>\n",
              "      <td>NaN</td>\n",
              "      <td>NaN</td>\n",
              "      <td>NaN</td>\n",
              "      <td>NaN</td>\n",
              "      <td>NaN</td>\n",
              "      <td>NaN</td>\n",
              "      <td>NaN</td>\n",
              "      <td>NaN</td>\n",
              "      <td>NaN</td>\n",
              "      <td>NaN</td>\n",
              "      <td>NaN</td>\n",
              "      <td>NaN</td>\n",
              "      <td>NaN</td>\n",
              "      <td>NaN</td>\n",
              "    </tr>\n",
              "    <tr>\n",
              "      <th>Working Hours</th>\n",
              "      <td>0.020297</td>\n",
              "      <td>0.062749</td>\n",
              "      <td>-0.028653</td>\n",
              "      <td>0.010212</td>\n",
              "      <td>0.052732</td>\n",
              "      <td>0.075771</td>\n",
              "      <td>0.082694</td>\n",
              "      <td>0.012317</td>\n",
              "      <td>-0.070835</td>\n",
              "      <td>NaN</td>\n",
              "      <td>1.000000</td>\n",
              "      <td>-1.000000</td>\n",
              "      <td>-0.014853</td>\n",
              "      <td>-0.023499</td>\n",
              "      <td>-0.006902</td>\n",
              "      <td>-0.052773</td>\n",
              "      <td>-0.114976</td>\n",
              "      <td>0.013688</td>\n",
              "    </tr>\n",
              "    <tr>\n",
              "      <th>Remaining Working Hours</th>\n",
              "      <td>-0.020297</td>\n",
              "      <td>-0.062749</td>\n",
              "      <td>0.028653</td>\n",
              "      <td>-0.010212</td>\n",
              "      <td>-0.052732</td>\n",
              "      <td>-0.075771</td>\n",
              "      <td>-0.082694</td>\n",
              "      <td>-0.012317</td>\n",
              "      <td>0.070835</td>\n",
              "      <td>NaN</td>\n",
              "      <td>-1.000000</td>\n",
              "      <td>1.000000</td>\n",
              "      <td>0.014853</td>\n",
              "      <td>0.023499</td>\n",
              "      <td>0.006902</td>\n",
              "      <td>0.052773</td>\n",
              "      <td>0.114976</td>\n",
              "      <td>-0.013688</td>\n",
              "    </tr>\n",
              "    <tr>\n",
              "      <th>Bp per Minute</th>\n",
              "      <td>0.359806</td>\n",
              "      <td>-0.074991</td>\n",
              "      <td>0.097554</td>\n",
              "      <td>0.110961</td>\n",
              "      <td>0.119521</td>\n",
              "      <td>-0.142191</td>\n",
              "      <td>-0.053035</td>\n",
              "      <td>-0.016521</td>\n",
              "      <td>-0.013911</td>\n",
              "      <td>NaN</td>\n",
              "      <td>-0.014853</td>\n",
              "      <td>0.014853</td>\n",
              "      <td>1.000000</td>\n",
              "      <td>-0.038195</td>\n",
              "      <td>0.002724</td>\n",
              "      <td>-0.062360</td>\n",
              "      <td>-0.063747</td>\n",
              "      <td>0.227014</td>\n",
              "    </tr>\n",
              "    <tr>\n",
              "      <th>Daily wages</th>\n",
              "      <td>0.010553</td>\n",
              "      <td>-0.026791</td>\n",
              "      <td>0.204070</td>\n",
              "      <td>-0.195121</td>\n",
              "      <td>0.018889</td>\n",
              "      <td>-0.087693</td>\n",
              "      <td>-0.047320</td>\n",
              "      <td>0.033150</td>\n",
              "      <td>0.068721</td>\n",
              "      <td>NaN</td>\n",
              "      <td>-0.023499</td>\n",
              "      <td>0.023499</td>\n",
              "      <td>-0.038195</td>\n",
              "      <td>1.000000</td>\n",
              "      <td>0.031557</td>\n",
              "      <td>-0.033267</td>\n",
              "      <td>-0.193499</td>\n",
              "      <td>0.147560</td>\n",
              "    </tr>\n",
              "    <tr>\n",
              "      <th>Noise Detection</th>\n",
              "      <td>-0.008130</td>\n",
              "      <td>0.013881</td>\n",
              "      <td>-0.035343</td>\n",
              "      <td>-0.128186</td>\n",
              "      <td>0.020040</td>\n",
              "      <td>-0.109858</td>\n",
              "      <td>0.039161</td>\n",
              "      <td>0.049742</td>\n",
              "      <td>0.044578</td>\n",
              "      <td>NaN</td>\n",
              "      <td>-0.006902</td>\n",
              "      <td>0.006902</td>\n",
              "      <td>0.002724</td>\n",
              "      <td>0.031557</td>\n",
              "      <td>1.000000</td>\n",
              "      <td>0.052026</td>\n",
              "      <td>0.009097</td>\n",
              "      <td>-0.061554</td>\n",
              "    </tr>\n",
              "    <tr>\n",
              "      <th>Infrared Sensor</th>\n",
              "      <td>-0.001881</td>\n",
              "      <td>0.036301</td>\n",
              "      <td>0.025545</td>\n",
              "      <td>0.069195</td>\n",
              "      <td>-0.041668</td>\n",
              "      <td>-0.027275</td>\n",
              "      <td>0.088331</td>\n",
              "      <td>-0.022172</td>\n",
              "      <td>0.047860</td>\n",
              "      <td>NaN</td>\n",
              "      <td>-0.052773</td>\n",
              "      <td>0.052773</td>\n",
              "      <td>-0.062360</td>\n",
              "      <td>-0.033267</td>\n",
              "      <td>0.052026</td>\n",
              "      <td>1.000000</td>\n",
              "      <td>0.071203</td>\n",
              "      <td>0.010041</td>\n",
              "    </tr>\n",
              "    <tr>\n",
              "      <th>Gas Sensor</th>\n",
              "      <td>-0.034191</td>\n",
              "      <td>-0.000119</td>\n",
              "      <td>-0.058714</td>\n",
              "      <td>0.048029</td>\n",
              "      <td>-0.058990</td>\n",
              "      <td>0.034943</td>\n",
              "      <td>0.017033</td>\n",
              "      <td>0.037845</td>\n",
              "      <td>0.020600</td>\n",
              "      <td>NaN</td>\n",
              "      <td>-0.114976</td>\n",
              "      <td>0.114976</td>\n",
              "      <td>-0.063747</td>\n",
              "      <td>-0.193499</td>\n",
              "      <td>0.009097</td>\n",
              "      <td>0.071203</td>\n",
              "      <td>1.000000</td>\n",
              "      <td>-0.024674</td>\n",
              "    </tr>\n",
              "    <tr>\n",
              "      <th>Productivity</th>\n",
              "      <td>0.432166</td>\n",
              "      <td>-0.092177</td>\n",
              "      <td>0.154149</td>\n",
              "      <td>0.002184</td>\n",
              "      <td>0.083813</td>\n",
              "      <td>-0.130421</td>\n",
              "      <td>-0.005215</td>\n",
              "      <td>0.141875</td>\n",
              "      <td>0.031264</td>\n",
              "      <td>NaN</td>\n",
              "      <td>0.013688</td>\n",
              "      <td>-0.013688</td>\n",
              "      <td>0.227014</td>\n",
              "      <td>0.147560</td>\n",
              "      <td>-0.061554</td>\n",
              "      <td>0.010041</td>\n",
              "      <td>-0.024674</td>\n",
              "      <td>1.000000</td>\n",
              "    </tr>\n",
              "  </tbody>\n",
              "</table>\n",
              "</div>\n",
              "      <button class=\"colab-df-convert\" onclick=\"convertToInteractive('df-6b17217f-4903-4e43-af76-beee8b666c82')\"\n",
              "              title=\"Convert this dataframe to an interactive table.\"\n",
              "              style=\"display:none;\">\n",
              "        \n",
              "  <svg xmlns=\"http://www.w3.org/2000/svg\" height=\"24px\"viewBox=\"0 0 24 24\"\n",
              "       width=\"24px\">\n",
              "    <path d=\"M0 0h24v24H0V0z\" fill=\"none\"/>\n",
              "    <path d=\"M18.56 5.44l.94 2.06.94-2.06 2.06-.94-2.06-.94-.94-2.06-.94 2.06-2.06.94zm-11 1L8.5 8.5l.94-2.06 2.06-.94-2.06-.94L8.5 2.5l-.94 2.06-2.06.94zm10 10l.94 2.06.94-2.06 2.06-.94-2.06-.94-.94-2.06-.94 2.06-2.06.94z\"/><path d=\"M17.41 7.96l-1.37-1.37c-.4-.4-.92-.59-1.43-.59-.52 0-1.04.2-1.43.59L10.3 9.45l-7.72 7.72c-.78.78-.78 2.05 0 2.83L4 21.41c.39.39.9.59 1.41.59.51 0 1.02-.2 1.41-.59l7.78-7.78 2.81-2.81c.8-.78.8-2.07 0-2.86zM5.41 20L4 18.59l7.72-7.72 1.47 1.35L5.41 20z\"/>\n",
              "  </svg>\n",
              "      </button>\n",
              "      \n",
              "  <style>\n",
              "    .colab-df-container {\n",
              "      display:flex;\n",
              "      flex-wrap:wrap;\n",
              "      gap: 12px;\n",
              "    }\n",
              "\n",
              "    .colab-df-convert {\n",
              "      background-color: #E8F0FE;\n",
              "      border: none;\n",
              "      border-radius: 50%;\n",
              "      cursor: pointer;\n",
              "      display: none;\n",
              "      fill: #1967D2;\n",
              "      height: 32px;\n",
              "      padding: 0 0 0 0;\n",
              "      width: 32px;\n",
              "    }\n",
              "\n",
              "    .colab-df-convert:hover {\n",
              "      background-color: #E2EBFA;\n",
              "      box-shadow: 0px 1px 2px rgba(60, 64, 67, 0.3), 0px 1px 3px 1px rgba(60, 64, 67, 0.15);\n",
              "      fill: #174EA6;\n",
              "    }\n",
              "\n",
              "    [theme=dark] .colab-df-convert {\n",
              "      background-color: #3B4455;\n",
              "      fill: #D2E3FC;\n",
              "    }\n",
              "\n",
              "    [theme=dark] .colab-df-convert:hover {\n",
              "      background-color: #434B5C;\n",
              "      box-shadow: 0px 1px 3px 1px rgba(0, 0, 0, 0.15);\n",
              "      filter: drop-shadow(0px 1px 2px rgba(0, 0, 0, 0.3));\n",
              "      fill: #FFFFFF;\n",
              "    }\n",
              "  </style>\n",
              "\n",
              "      <script>\n",
              "        const buttonEl =\n",
              "          document.querySelector('#df-6b17217f-4903-4e43-af76-beee8b666c82 button.colab-df-convert');\n",
              "        buttonEl.style.display =\n",
              "          google.colab.kernel.accessAllowed ? 'block' : 'none';\n",
              "\n",
              "        async function convertToInteractive(key) {\n",
              "          const element = document.querySelector('#df-6b17217f-4903-4e43-af76-beee8b666c82');\n",
              "          const dataTable =\n",
              "            await google.colab.kernel.invokeFunction('convertToInteractive',\n",
              "                                                     [key], {});\n",
              "          if (!dataTable) return;\n",
              "\n",
              "          const docLinkHtml = 'Like what you see? Visit the ' +\n",
              "            '<a target=\"_blank\" href=https://colab.research.google.com/notebooks/data_table.ipynb>data table notebook</a>'\n",
              "            + ' to learn more about interactive tables.';\n",
              "          element.innerHTML = '';\n",
              "          dataTable['output_type'] = 'display_data';\n",
              "          await google.colab.output.renderOutput(dataTable, element);\n",
              "          const docLink = document.createElement('div');\n",
              "          docLink.innerHTML = docLinkHtml;\n",
              "          element.appendChild(docLink);\n",
              "        }\n",
              "      </script>\n",
              "    </div>\n",
              "  </div>\n",
              "  "
            ]
          },
          "metadata": {},
          "execution_count": 37
        }
      ]
    },
    {
      "cell_type": "code",
      "source": [
        "#select  working Hours as target variable:\n",
        "y = Employee_data['Productivity']"
      ],
      "metadata": {
        "id": "XIw2UNvPZPUp"
      },
      "execution_count": 38,
      "outputs": []
    },
    {
      "cell_type": "code",
      "source": [
        "x = Employee_data.drop([' EMP_ID','Productivity'],axis=1)\n",
        " "
      ],
      "metadata": {
        "id": "MTWJb3qxXrcJ"
      },
      "execution_count": 39,
      "outputs": []
    },
    {
      "cell_type": "code",
      "source": [
        "#now make the train-test splits\n",
        "x_train, x_test, y_train, y_test = train_test_split(x, y, test_size = 0.2, random_state=189)\n",
        "print('Dimensions: \\n x_train:{} \\n x_test{} \\n y_train{} \\n y_test{}'.format(x_train.shape, x_test.shape, y_train.shape, y_test.shape))\n"
      ],
      "metadata": {
        "colab": {
          "base_uri": "https://localhost:8080/"
        },
        "id": "fIEZ5issZdgV",
        "outputId": "192aed35-2d83-46e2-b532-3746b2ed1c0a"
      },
      "execution_count": 40,
      "outputs": [
        {
          "output_type": "stream",
          "name": "stdout",
          "text": [
            "Dimensions: \n",
            " x_train:(283, 16) \n",
            " x_test(71, 16) \n",
            " y_train(283,) \n",
            " y_test(71,)\n"
          ]
        }
      ]
    },
    {
      "cell_type": "code",
      "source": [
        "#x_train and x_test are dataframes\n",
        "x_train.head(2)"
      ],
      "metadata": {
        "colab": {
          "base_uri": "https://localhost:8080/",
          "height": 0
        },
        "id": "zKdk4v5BZlb6",
        "outputId": "b000964b-d96a-4897-fb0a-84e16fe0de88"
      },
      "execution_count": 41,
      "outputs": [
        {
          "output_type": "execute_result",
          "data": {
            "text/plain": [
              "     Age  Gender  Scope of Work   Skill of employee  Experience(Years)  \\\n",
              "192    5       1               4                  3                 12   \n",
              "215   11       1               8                  1                 17   \n",
              "\n",
              "     Heart Beat(BPM)  Temperature  Site  Total Working Hours  Working Hours  \\\n",
              "192               13       100.42     2                    0           32.0   \n",
              "215               32       104.10     1                    0           52.0   \n",
              "\n",
              "     Remaining Working Hours  Bp per Minute  Daily wages  Noise Detection  \\\n",
              "192                     2418           98.0            2                0   \n",
              "215                     2398           99.0            1                0   \n",
              "\n",
              "     Infrared Sensor  Gas Sensor  \n",
              "192                0           1  \n",
              "215                0           0  "
            ],
            "text/html": [
              "\n",
              "  <div id=\"df-68fb2569-239e-4a25-8895-5244ce1ca0ff\">\n",
              "    <div class=\"colab-df-container\">\n",
              "      <div>\n",
              "<style scoped>\n",
              "    .dataframe tbody tr th:only-of-type {\n",
              "        vertical-align: middle;\n",
              "    }\n",
              "\n",
              "    .dataframe tbody tr th {\n",
              "        vertical-align: top;\n",
              "    }\n",
              "\n",
              "    .dataframe thead th {\n",
              "        text-align: right;\n",
              "    }\n",
              "</style>\n",
              "<table border=\"1\" class=\"dataframe\">\n",
              "  <thead>\n",
              "    <tr style=\"text-align: right;\">\n",
              "      <th></th>\n",
              "      <th>Age</th>\n",
              "      <th>Gender</th>\n",
              "      <th>Scope of Work</th>\n",
              "      <th>Skill of employee</th>\n",
              "      <th>Experience(Years)</th>\n",
              "      <th>Heart Beat(BPM)</th>\n",
              "      <th>Temperature</th>\n",
              "      <th>Site</th>\n",
              "      <th>Total Working Hours</th>\n",
              "      <th>Working Hours</th>\n",
              "      <th>Remaining Working Hours</th>\n",
              "      <th>Bp per Minute</th>\n",
              "      <th>Daily wages</th>\n",
              "      <th>Noise Detection</th>\n",
              "      <th>Infrared Sensor</th>\n",
              "      <th>Gas Sensor</th>\n",
              "    </tr>\n",
              "  </thead>\n",
              "  <tbody>\n",
              "    <tr>\n",
              "      <th>192</th>\n",
              "      <td>5</td>\n",
              "      <td>1</td>\n",
              "      <td>4</td>\n",
              "      <td>3</td>\n",
              "      <td>12</td>\n",
              "      <td>13</td>\n",
              "      <td>100.42</td>\n",
              "      <td>2</td>\n",
              "      <td>0</td>\n",
              "      <td>32.0</td>\n",
              "      <td>2418</td>\n",
              "      <td>98.0</td>\n",
              "      <td>2</td>\n",
              "      <td>0</td>\n",
              "      <td>0</td>\n",
              "      <td>1</td>\n",
              "    </tr>\n",
              "    <tr>\n",
              "      <th>215</th>\n",
              "      <td>11</td>\n",
              "      <td>1</td>\n",
              "      <td>8</td>\n",
              "      <td>1</td>\n",
              "      <td>17</td>\n",
              "      <td>32</td>\n",
              "      <td>104.10</td>\n",
              "      <td>1</td>\n",
              "      <td>0</td>\n",
              "      <td>52.0</td>\n",
              "      <td>2398</td>\n",
              "      <td>99.0</td>\n",
              "      <td>1</td>\n",
              "      <td>0</td>\n",
              "      <td>0</td>\n",
              "      <td>0</td>\n",
              "    </tr>\n",
              "  </tbody>\n",
              "</table>\n",
              "</div>\n",
              "      <button class=\"colab-df-convert\" onclick=\"convertToInteractive('df-68fb2569-239e-4a25-8895-5244ce1ca0ff')\"\n",
              "              title=\"Convert this dataframe to an interactive table.\"\n",
              "              style=\"display:none;\">\n",
              "        \n",
              "  <svg xmlns=\"http://www.w3.org/2000/svg\" height=\"24px\"viewBox=\"0 0 24 24\"\n",
              "       width=\"24px\">\n",
              "    <path d=\"M0 0h24v24H0V0z\" fill=\"none\"/>\n",
              "    <path d=\"M18.56 5.44l.94 2.06.94-2.06 2.06-.94-2.06-.94-.94-2.06-.94 2.06-2.06.94zm-11 1L8.5 8.5l.94-2.06 2.06-.94-2.06-.94L8.5 2.5l-.94 2.06-2.06.94zm10 10l.94 2.06.94-2.06 2.06-.94-2.06-.94-.94-2.06-.94 2.06-2.06.94z\"/><path d=\"M17.41 7.96l-1.37-1.37c-.4-.4-.92-.59-1.43-.59-.52 0-1.04.2-1.43.59L10.3 9.45l-7.72 7.72c-.78.78-.78 2.05 0 2.83L4 21.41c.39.39.9.59 1.41.59.51 0 1.02-.2 1.41-.59l7.78-7.78 2.81-2.81c.8-.78.8-2.07 0-2.86zM5.41 20L4 18.59l7.72-7.72 1.47 1.35L5.41 20z\"/>\n",
              "  </svg>\n",
              "      </button>\n",
              "      \n",
              "  <style>\n",
              "    .colab-df-container {\n",
              "      display:flex;\n",
              "      flex-wrap:wrap;\n",
              "      gap: 12px;\n",
              "    }\n",
              "\n",
              "    .colab-df-convert {\n",
              "      background-color: #E8F0FE;\n",
              "      border: none;\n",
              "      border-radius: 50%;\n",
              "      cursor: pointer;\n",
              "      display: none;\n",
              "      fill: #1967D2;\n",
              "      height: 32px;\n",
              "      padding: 0 0 0 0;\n",
              "      width: 32px;\n",
              "    }\n",
              "\n",
              "    .colab-df-convert:hover {\n",
              "      background-color: #E2EBFA;\n",
              "      box-shadow: 0px 1px 2px rgba(60, 64, 67, 0.3), 0px 1px 3px 1px rgba(60, 64, 67, 0.15);\n",
              "      fill: #174EA6;\n",
              "    }\n",
              "\n",
              "    [theme=dark] .colab-df-convert {\n",
              "      background-color: #3B4455;\n",
              "      fill: #D2E3FC;\n",
              "    }\n",
              "\n",
              "    [theme=dark] .colab-df-convert:hover {\n",
              "      background-color: #434B5C;\n",
              "      box-shadow: 0px 1px 3px 1px rgba(0, 0, 0, 0.15);\n",
              "      filter: drop-shadow(0px 1px 2px rgba(0, 0, 0, 0.3));\n",
              "      fill: #FFFFFF;\n",
              "    }\n",
              "  </style>\n",
              "\n",
              "      <script>\n",
              "        const buttonEl =\n",
              "          document.querySelector('#df-68fb2569-239e-4a25-8895-5244ce1ca0ff button.colab-df-convert');\n",
              "        buttonEl.style.display =\n",
              "          google.colab.kernel.accessAllowed ? 'block' : 'none';\n",
              "\n",
              "        async function convertToInteractive(key) {\n",
              "          const element = document.querySelector('#df-68fb2569-239e-4a25-8895-5244ce1ca0ff');\n",
              "          const dataTable =\n",
              "            await google.colab.kernel.invokeFunction('convertToInteractive',\n",
              "                                                     [key], {});\n",
              "          if (!dataTable) return;\n",
              "\n",
              "          const docLinkHtml = 'Like what you see? Visit the ' +\n",
              "            '<a target=\"_blank\" href=https://colab.research.google.com/notebooks/data_table.ipynb>data table notebook</a>'\n",
              "            + ' to learn more about interactive tables.';\n",
              "          element.innerHTML = '';\n",
              "          dataTable['output_type'] = 'display_data';\n",
              "          await google.colab.output.renderOutput(dataTable, element);\n",
              "          const docLink = document.createElement('div');\n",
              "          docLink.innerHTML = docLinkHtml;\n",
              "          element.appendChild(docLink);\n",
              "        }\n",
              "      </script>\n",
              "    </div>\n",
              "  </div>\n",
              "  "
            ]
          },
          "metadata": {},
          "execution_count": 41
        }
      ]
    },
    {
      "cell_type": "code",
      "source": [
        "y_train.iloc[0:2]"
      ],
      "metadata": {
        "colab": {
          "base_uri": "https://localhost:8080/"
        },
        "id": "X8CCHHmXZrme",
        "outputId": "e0a80e88-2627-4d20-84d8-ed10069f450b"
      },
      "execution_count": 42,
      "outputs": [
        {
          "output_type": "execute_result",
          "data": {
            "text/plain": [
              "192    1\n",
              "215    1\n",
              "Name: Productivity, dtype: int64"
            ]
          },
          "metadata": {},
          "execution_count": 42
        }
      ]
    },
    {
      "cell_type": "code",
      "source": [
        "tree_reg = DecisionTreeRegressor(max_depth = 3, min_samples_split = 10)"
      ],
      "metadata": {
        "id": "oMbU4XWeZyMD"
      },
      "execution_count": 43,
      "outputs": []
    },
    {
      "cell_type": "code",
      "source": [
        "\n",
        "start = time.time()\n",
        "tree_reg.fit(x_train, y_train)\n",
        "stop = time.time()"
      ],
      "metadata": {
        "id": "9LUs7158Z05U"
      },
      "execution_count": 44,
      "outputs": []
    },
    {
      "cell_type": "code",
      "source": [
        "#predict the response for the test data\n",
        "tree_reg_pred = tree_reg.predict(x_test)\n"
      ],
      "metadata": {
        "id": "B3DI2WGgZ4BT"
      },
      "execution_count": 45,
      "outputs": []
    },
    {
      "cell_type": "code",
      "source": [
        "#print the RMSE\n",
        "print(f'Working Hours: {round((stop - start))} hours')\n",
        "tree_reg_RMSE = np.sqrt(mean_squared_error(y_test, tree_reg_pred))\n",
        "print(f'tree_reg_RMSE: {round(tree_reg_RMSE,3)}')\n"
      ],
      "metadata": {
        "colab": {
          "base_uri": "https://localhost:8080/"
        },
        "id": "6e-FQ29yZ94o",
        "outputId": "d6501941-2c15-41ba-cb81-66d57f159fb5"
      },
      "execution_count": 46,
      "outputs": [
        {
          "output_type": "stream",
          "name": "stdout",
          "text": [
            "Working Hours: 0 hours\n",
            "tree_reg_RMSE: 0.518\n"
          ]
        }
      ]
    },
    {
      "cell_type": "markdown",
      "source": [
        "\n",
        "# RandomizedSearchCV"
      ],
      "metadata": {
        "id": "yhOyvPQlP06U"
      }
    },
    {
      "cell_type": "code",
      "source": [
        "\n",
        "from sklearn.model_selection import RandomizedSearchCV\n",
        "model = DT(criterion = 'entropy')\n",
        "param_dist = {'min_samples_leaf': list(range(1, 1000)),\n",
        "              'max_depth': list(range(2, 500)),\n",
        "              'max_features': ['log2']}"
      ],
      "metadata": {
        "id": "dj5pUDqZUJ3f"
      },
      "execution_count": 47,
      "outputs": []
    },
    {
      "cell_type": "code",
      "source": [
        "n_iter = 50\n",
        "\n",
        "model_random_search = RandomizedSearchCV(estimator = model,\n",
        "                                         param_distributions = param_dist,\n",
        "                                         n_iter = n_iter)"
      ],
      "metadata": {
        "id": "s4dQCZ04Qg8b"
      },
      "execution_count": 48,
      "outputs": []
    },
    {
      "cell_type": "code",
      "source": [
        "model_random_search. fit(train[predictors], train[target])\n",
        "model_random_search. best_params_"
      ],
      "metadata": {
        "colab": {
          "base_uri": "https://localhost:8080/"
        },
        "id": "OyM61KnIQkFH",
        "outputId": "c92fa617-0bcb-408d-c3d9-51c171a156d6"
      },
      "execution_count": 49,
      "outputs": [
        {
          "output_type": "execute_result",
          "data": {
            "text/plain": [
              "{'min_samples_leaf': 12, 'max_features': 'log2', 'max_depth': 321}"
            ]
          },
          "metadata": {},
          "execution_count": 49
        }
      ]
    },
    {
      "cell_type": "code",
      "source": [
        "dT_random = model_random_search.best_estimator_"
      ],
      "metadata": {
        "id": "ean1Hi-OQohn"
      },
      "execution_count": 50,
      "outputs": []
    },
    {
      "cell_type": "code",
      "source": [
        "#prediciton on test data \n",
        "pred_random = dT_random.predict(test[predictors])\n",
        "pd.crosstab(test[target], pred_random, rownames=['Actual'], colnames=['Predictions'])"
      ],
      "metadata": {
        "colab": {
          "base_uri": "https://localhost:8080/",
          "height": 143
        },
        "id": "K_4P0nPOQrtr",
        "outputId": "a201f7a1-5347-4c60-96e9-6b872cf26eeb"
      },
      "execution_count": 51,
      "outputs": [
        {
          "output_type": "execute_result",
          "data": {
            "text/plain": [
              "Predictions   0   1\n",
              "Actual             \n",
              "0            51   0\n",
              "1            18  38"
            ],
            "text/html": [
              "\n",
              "  <div id=\"df-cb9cf005-1d86-432f-85d0-7212768bfd16\">\n",
              "    <div class=\"colab-df-container\">\n",
              "      <div>\n",
              "<style scoped>\n",
              "    .dataframe tbody tr th:only-of-type {\n",
              "        vertical-align: middle;\n",
              "    }\n",
              "\n",
              "    .dataframe tbody tr th {\n",
              "        vertical-align: top;\n",
              "    }\n",
              "\n",
              "    .dataframe thead th {\n",
              "        text-align: right;\n",
              "    }\n",
              "</style>\n",
              "<table border=\"1\" class=\"dataframe\">\n",
              "  <thead>\n",
              "    <tr style=\"text-align: right;\">\n",
              "      <th>Predictions</th>\n",
              "      <th>0</th>\n",
              "      <th>1</th>\n",
              "    </tr>\n",
              "    <tr>\n",
              "      <th>Actual</th>\n",
              "      <th></th>\n",
              "      <th></th>\n",
              "    </tr>\n",
              "  </thead>\n",
              "  <tbody>\n",
              "    <tr>\n",
              "      <th>0</th>\n",
              "      <td>51</td>\n",
              "      <td>0</td>\n",
              "    </tr>\n",
              "    <tr>\n",
              "      <th>1</th>\n",
              "      <td>18</td>\n",
              "      <td>38</td>\n",
              "    </tr>\n",
              "  </tbody>\n",
              "</table>\n",
              "</div>\n",
              "      <button class=\"colab-df-convert\" onclick=\"convertToInteractive('df-cb9cf005-1d86-432f-85d0-7212768bfd16')\"\n",
              "              title=\"Convert this dataframe to an interactive table.\"\n",
              "              style=\"display:none;\">\n",
              "        \n",
              "  <svg xmlns=\"http://www.w3.org/2000/svg\" height=\"24px\"viewBox=\"0 0 24 24\"\n",
              "       width=\"24px\">\n",
              "    <path d=\"M0 0h24v24H0V0z\" fill=\"none\"/>\n",
              "    <path d=\"M18.56 5.44l.94 2.06.94-2.06 2.06-.94-2.06-.94-.94-2.06-.94 2.06-2.06.94zm-11 1L8.5 8.5l.94-2.06 2.06-.94-2.06-.94L8.5 2.5l-.94 2.06-2.06.94zm10 10l.94 2.06.94-2.06 2.06-.94-2.06-.94-.94-2.06-.94 2.06-2.06.94z\"/><path d=\"M17.41 7.96l-1.37-1.37c-.4-.4-.92-.59-1.43-.59-.52 0-1.04.2-1.43.59L10.3 9.45l-7.72 7.72c-.78.78-.78 2.05 0 2.83L4 21.41c.39.39.9.59 1.41.59.51 0 1.02-.2 1.41-.59l7.78-7.78 2.81-2.81c.8-.78.8-2.07 0-2.86zM5.41 20L4 18.59l7.72-7.72 1.47 1.35L5.41 20z\"/>\n",
              "  </svg>\n",
              "      </button>\n",
              "      \n",
              "  <style>\n",
              "    .colab-df-container {\n",
              "      display:flex;\n",
              "      flex-wrap:wrap;\n",
              "      gap: 12px;\n",
              "    }\n",
              "\n",
              "    .colab-df-convert {\n",
              "      background-color: #E8F0FE;\n",
              "      border: none;\n",
              "      border-radius: 50%;\n",
              "      cursor: pointer;\n",
              "      display: none;\n",
              "      fill: #1967D2;\n",
              "      height: 32px;\n",
              "      padding: 0 0 0 0;\n",
              "      width: 32px;\n",
              "    }\n",
              "\n",
              "    .colab-df-convert:hover {\n",
              "      background-color: #E2EBFA;\n",
              "      box-shadow: 0px 1px 2px rgba(60, 64, 67, 0.3), 0px 1px 3px 1px rgba(60, 64, 67, 0.15);\n",
              "      fill: #174EA6;\n",
              "    }\n",
              "\n",
              "    [theme=dark] .colab-df-convert {\n",
              "      background-color: #3B4455;\n",
              "      fill: #D2E3FC;\n",
              "    }\n",
              "\n",
              "    [theme=dark] .colab-df-convert:hover {\n",
              "      background-color: #434B5C;\n",
              "      box-shadow: 0px 1px 3px 1px rgba(0, 0, 0, 0.15);\n",
              "      filter: drop-shadow(0px 1px 2px rgba(0, 0, 0, 0.3));\n",
              "      fill: #FFFFFF;\n",
              "    }\n",
              "  </style>\n",
              "\n",
              "      <script>\n",
              "        const buttonEl =\n",
              "          document.querySelector('#df-cb9cf005-1d86-432f-85d0-7212768bfd16 button.colab-df-convert');\n",
              "        buttonEl.style.display =\n",
              "          google.colab.kernel.accessAllowed ? 'block' : 'none';\n",
              "\n",
              "        async function convertToInteractive(key) {\n",
              "          const element = document.querySelector('#df-cb9cf005-1d86-432f-85d0-7212768bfd16');\n",
              "          const dataTable =\n",
              "            await google.colab.kernel.invokeFunction('convertToInteractive',\n",
              "                                                     [key], {});\n",
              "          if (!dataTable) return;\n",
              "\n",
              "          const docLinkHtml = 'Like what you see? Visit the ' +\n",
              "            '<a target=\"_blank\" href=https://colab.research.google.com/notebooks/data_table.ipynb>data table notebook</a>'\n",
              "            + ' to learn more about interactive tables.';\n",
              "          element.innerHTML = '';\n",
              "          dataTable['output_type'] = 'display_data';\n",
              "          await google.colab.output.renderOutput(dataTable, element);\n",
              "          const docLink = document.createElement('div');\n",
              "          docLink.innerHTML = docLinkHtml;\n",
              "          element.appendChild(docLink);\n",
              "        }\n",
              "      </script>\n",
              "    </div>\n",
              "  </div>\n",
              "  "
            ]
          },
          "metadata": {},
          "execution_count": 51
        }
      ]
    },
    {
      "cell_type": "code",
      "source": [
        "np.mean(pred_random == test[target])"
      ],
      "metadata": {
        "colab": {
          "base_uri": "https://localhost:8080/"
        },
        "id": "2KaQEeWOQvrZ",
        "outputId": "698145c8-5991-43ec-9455-3f2b71f22055"
      },
      "execution_count": 52,
      "outputs": [
        {
          "output_type": "execute_result",
          "data": {
            "text/plain": [
              "0.8317757009345794"
            ]
          },
          "metadata": {},
          "execution_count": 52
        }
      ]
    },
    {
      "cell_type": "code",
      "source": [
        "#predicition on train data \n",
        "pred_random = dT_random.predict(train[predictors])\n",
        "pd.crosstab(train[target], pred_random, rownames = ['Actual'], colnames = ['Predictions'])"
      ],
      "metadata": {
        "colab": {
          "base_uri": "https://localhost:8080/",
          "height": 143
        },
        "id": "16zTmE2HQzmG",
        "outputId": "78957869-94e1-4194-f196-29e2bad7f6dd"
      },
      "execution_count": 53,
      "outputs": [
        {
          "output_type": "execute_result",
          "data": {
            "text/plain": [
              "Predictions    0   1\n",
              "Actual              \n",
              "0            140   0\n",
              "1             23  84"
            ],
            "text/html": [
              "\n",
              "  <div id=\"df-faa0ebfb-205e-4032-b868-9a3abca6d713\">\n",
              "    <div class=\"colab-df-container\">\n",
              "      <div>\n",
              "<style scoped>\n",
              "    .dataframe tbody tr th:only-of-type {\n",
              "        vertical-align: middle;\n",
              "    }\n",
              "\n",
              "    .dataframe tbody tr th {\n",
              "        vertical-align: top;\n",
              "    }\n",
              "\n",
              "    .dataframe thead th {\n",
              "        text-align: right;\n",
              "    }\n",
              "</style>\n",
              "<table border=\"1\" class=\"dataframe\">\n",
              "  <thead>\n",
              "    <tr style=\"text-align: right;\">\n",
              "      <th>Predictions</th>\n",
              "      <th>0</th>\n",
              "      <th>1</th>\n",
              "    </tr>\n",
              "    <tr>\n",
              "      <th>Actual</th>\n",
              "      <th></th>\n",
              "      <th></th>\n",
              "    </tr>\n",
              "  </thead>\n",
              "  <tbody>\n",
              "    <tr>\n",
              "      <th>0</th>\n",
              "      <td>140</td>\n",
              "      <td>0</td>\n",
              "    </tr>\n",
              "    <tr>\n",
              "      <th>1</th>\n",
              "      <td>23</td>\n",
              "      <td>84</td>\n",
              "    </tr>\n",
              "  </tbody>\n",
              "</table>\n",
              "</div>\n",
              "      <button class=\"colab-df-convert\" onclick=\"convertToInteractive('df-faa0ebfb-205e-4032-b868-9a3abca6d713')\"\n",
              "              title=\"Convert this dataframe to an interactive table.\"\n",
              "              style=\"display:none;\">\n",
              "        \n",
              "  <svg xmlns=\"http://www.w3.org/2000/svg\" height=\"24px\"viewBox=\"0 0 24 24\"\n",
              "       width=\"24px\">\n",
              "    <path d=\"M0 0h24v24H0V0z\" fill=\"none\"/>\n",
              "    <path d=\"M18.56 5.44l.94 2.06.94-2.06 2.06-.94-2.06-.94-.94-2.06-.94 2.06-2.06.94zm-11 1L8.5 8.5l.94-2.06 2.06-.94-2.06-.94L8.5 2.5l-.94 2.06-2.06.94zm10 10l.94 2.06.94-2.06 2.06-.94-2.06-.94-.94-2.06-.94 2.06-2.06.94z\"/><path d=\"M17.41 7.96l-1.37-1.37c-.4-.4-.92-.59-1.43-.59-.52 0-1.04.2-1.43.59L10.3 9.45l-7.72 7.72c-.78.78-.78 2.05 0 2.83L4 21.41c.39.39.9.59 1.41.59.51 0 1.02-.2 1.41-.59l7.78-7.78 2.81-2.81c.8-.78.8-2.07 0-2.86zM5.41 20L4 18.59l7.72-7.72 1.47 1.35L5.41 20z\"/>\n",
              "  </svg>\n",
              "      </button>\n",
              "      \n",
              "  <style>\n",
              "    .colab-df-container {\n",
              "      display:flex;\n",
              "      flex-wrap:wrap;\n",
              "      gap: 12px;\n",
              "    }\n",
              "\n",
              "    .colab-df-convert {\n",
              "      background-color: #E8F0FE;\n",
              "      border: none;\n",
              "      border-radius: 50%;\n",
              "      cursor: pointer;\n",
              "      display: none;\n",
              "      fill: #1967D2;\n",
              "      height: 32px;\n",
              "      padding: 0 0 0 0;\n",
              "      width: 32px;\n",
              "    }\n",
              "\n",
              "    .colab-df-convert:hover {\n",
              "      background-color: #E2EBFA;\n",
              "      box-shadow: 0px 1px 2px rgba(60, 64, 67, 0.3), 0px 1px 3px 1px rgba(60, 64, 67, 0.15);\n",
              "      fill: #174EA6;\n",
              "    }\n",
              "\n",
              "    [theme=dark] .colab-df-convert {\n",
              "      background-color: #3B4455;\n",
              "      fill: #D2E3FC;\n",
              "    }\n",
              "\n",
              "    [theme=dark] .colab-df-convert:hover {\n",
              "      background-color: #434B5C;\n",
              "      box-shadow: 0px 1px 3px 1px rgba(0, 0, 0, 0.15);\n",
              "      filter: drop-shadow(0px 1px 2px rgba(0, 0, 0, 0.3));\n",
              "      fill: #FFFFFF;\n",
              "    }\n",
              "  </style>\n",
              "\n",
              "      <script>\n",
              "        const buttonEl =\n",
              "          document.querySelector('#df-faa0ebfb-205e-4032-b868-9a3abca6d713 button.colab-df-convert');\n",
              "        buttonEl.style.display =\n",
              "          google.colab.kernel.accessAllowed ? 'block' : 'none';\n",
              "\n",
              "        async function convertToInteractive(key) {\n",
              "          const element = document.querySelector('#df-faa0ebfb-205e-4032-b868-9a3abca6d713');\n",
              "          const dataTable =\n",
              "            await google.colab.kernel.invokeFunction('convertToInteractive',\n",
              "                                                     [key], {});\n",
              "          if (!dataTable) return;\n",
              "\n",
              "          const docLinkHtml = 'Like what you see? Visit the ' +\n",
              "            '<a target=\"_blank\" href=https://colab.research.google.com/notebooks/data_table.ipynb>data table notebook</a>'\n",
              "            + ' to learn more about interactive tables.';\n",
              "          element.innerHTML = '';\n",
              "          dataTable['output_type'] = 'display_data';\n",
              "          await google.colab.output.renderOutput(dataTable, element);\n",
              "          const docLink = document.createElement('div');\n",
              "          docLink.innerHTML = docLinkHtml;\n",
              "          element.appendChild(docLink);\n",
              "        }\n",
              "      </script>\n",
              "    </div>\n",
              "  </div>\n",
              "  "
            ]
          },
          "metadata": {},
          "execution_count": 53
        }
      ]
    },
    {
      "cell_type": "code",
      "source": [
        "np.mean(pred_random == train[target])"
      ],
      "metadata": {
        "colab": {
          "base_uri": "https://localhost:8080/"
        },
        "id": "Wnt0DLW-Q1Wm",
        "outputId": "186ef901-8464-4271-eeaf-65e2e2df7435"
      },
      "execution_count": 54,
      "outputs": [
        {
          "output_type": "execute_result",
          "data": {
            "text/plain": [
              "0.9068825910931174"
            ]
          },
          "metadata": {},
          "execution_count": 54
        }
      ]
    },
    {
      "cell_type": "markdown",
      "source": [
        "\n",
        "##KNN "
      ],
      "metadata": {
        "id": "p7Y09ziJQ95j"
      }
    },
    {
      "cell_type": "code",
      "source": [
        "\n",
        "desc = Employee_data.describe()\n",
        "\n",
        "Employee_data_new = Employee_data[np.isfinite(Employee_data).all(1)]"
      ],
      "metadata": {
        "id": "1ITq18SFQ6ZJ"
      },
      "execution_count": 55,
      "outputs": []
    },
    {
      "cell_type": "code",
      "source": [
        "X = np.array(Employee_data_new.iloc[:,:]) # Predictors "
      ],
      "metadata": {
        "id": "blhjwtjDRNEE"
      },
      "execution_count": 56,
      "outputs": []
    },
    {
      "cell_type": "code",
      "source": [
        "Y = np.array(Employee_data['Productivity']) # Target "
      ],
      "metadata": {
        "id": "hXT4CrG2RUSu"
      },
      "execution_count": 57,
      "outputs": []
    },
    {
      "cell_type": "code",
      "source": [
        "\n",
        "from sklearn.model_selection import train_test_split\n"
      ],
      "metadata": {
        "id": "h3Z5C0TWRjls"
      },
      "execution_count": 58,
      "outputs": []
    },
    {
      "cell_type": "code",
      "source": [
        "X_train, X_test, Y_train, Y_test = train_test_split(X, Y, test_size = 0.2)"
      ],
      "metadata": {
        "id": "TmBxkfWkRlAR"
      },
      "execution_count": 59,
      "outputs": []
    },
    {
      "cell_type": "code",
      "source": [
        "# Imbalance check\n",
        "Employee_data.Productivity.value_counts()\n"
      ],
      "metadata": {
        "colab": {
          "base_uri": "https://localhost:8080/"
        },
        "id": "XQbTYWUGRpfX",
        "outputId": "17eff82b-19e5-4dc3-990f-9c395bd5312d"
      },
      "execution_count": 60,
      "outputs": [
        {
          "output_type": "execute_result",
          "data": {
            "text/plain": [
              "1    175\n",
              "2    150\n",
              "0     29\n",
              "Name: Productivity, dtype: int64"
            ]
          },
          "metadata": {},
          "execution_count": 60
        }
      ]
    },
    {
      "cell_type": "code",
      "source": [
        "ytrain = pd.DataFrame(Y_train)\n",
        "ytest = pd.DataFrame(Y_test)\n"
      ],
      "metadata": {
        "id": "FFLJX2szRu7w"
      },
      "execution_count": 61,
      "outputs": []
    },
    {
      "cell_type": "code",
      "source": [
        "\n",
        "ytrain.value_counts()\n",
        "ytest.value_counts()\n"
      ],
      "metadata": {
        "colab": {
          "base_uri": "https://localhost:8080/"
        },
        "id": "Rp6mFyNARxy0",
        "outputId": "acc0377a-4af9-4779-c335-abb8cd22fb95"
      },
      "execution_count": 62,
      "outputs": [
        {
          "output_type": "execute_result",
          "data": {
            "text/plain": [
              "1    35\n",
              "2    31\n",
              "0     5\n",
              "dtype: int64"
            ]
          },
          "metadata": {},
          "execution_count": 62
        }
      ]
    },
    {
      "cell_type": "code",
      "source": [
        "from sklearn.neighbors import KNeighborsClassifier"
      ],
      "metadata": {
        "id": "xut7AgAmR1w9"
      },
      "execution_count": 63,
      "outputs": []
    },
    {
      "cell_type": "code",
      "source": [
        "\n",
        "knn = KNeighborsClassifier(n_neighbors = 21)\n",
        "knn.fit(X_train, Y_train)"
      ],
      "metadata": {
        "colab": {
          "base_uri": "https://localhost:8080/"
        },
        "id": "-Q3GWqWFR5_k",
        "outputId": "cbbb7dad-5079-43af-a085-6c82870e4cb7"
      },
      "execution_count": 64,
      "outputs": [
        {
          "output_type": "execute_result",
          "data": {
            "text/plain": [
              "KNeighborsClassifier(n_neighbors=21)"
            ]
          },
          "metadata": {},
          "execution_count": 64
        }
      ]
    },
    {
      "cell_type": "code",
      "source": [
        "pred = knn.predict(X_test)\n",
        "pred\n"
      ],
      "metadata": {
        "colab": {
          "base_uri": "https://localhost:8080/"
        },
        "id": "z6bjJBDwR7ZA",
        "outputId": "c30cda9d-6eee-4f98-bb9d-5403a74c5e7b"
      },
      "execution_count": 65,
      "outputs": [
        {
          "output_type": "execute_result",
          "data": {
            "text/plain": [
              "array([0, 1, 2, 1, 1, 2, 2, 2, 1, 2, 0, 1, 1, 2, 1, 2, 2, 1, 2, 2, 1, 1,\n",
              "       1, 1, 2, 1, 2, 1, 1, 0, 1, 1, 1, 2, 2, 1, 1, 1, 1, 1, 1, 1, 1, 0,\n",
              "       2, 1, 1, 2, 1, 0, 0, 1, 1, 1, 2, 1, 1, 2, 1, 2, 2, 2, 1, 1, 1, 2,\n",
              "       2, 1, 2, 1, 0])"
            ]
          },
          "metadata": {},
          "execution_count": 65
        }
      ]
    },
    {
      "cell_type": "code",
      "source": [
        "\n",
        "# Evaluate the model\n",
        "from sklearn.metrics import accuracy_score\n",
        "print(accuracy_score(Y_test, pred))"
      ],
      "metadata": {
        "colab": {
          "base_uri": "https://localhost:8080/"
        },
        "id": "-6O-cd4SR-Y3",
        "outputId": "ba2ed6ee-3efa-4649-a4ee-78fb552c4d44"
      },
      "execution_count": 66,
      "outputs": [
        {
          "output_type": "stream",
          "name": "stdout",
          "text": [
            "0.7605633802816901\n"
          ]
        }
      ]
    },
    {
      "cell_type": "code",
      "source": [
        "pd.crosstab(Y_test, pred, rownames = ['Actual'], colnames= ['Predictions']) "
      ],
      "metadata": {
        "colab": {
          "base_uri": "https://localhost:8080/",
          "height": 175
        },
        "id": "l5Ip98kpSBfZ",
        "outputId": "4e6e9d2f-5fd1-4291-db7d-e94f1d7cb7fa"
      },
      "execution_count": 67,
      "outputs": [
        {
          "output_type": "execute_result",
          "data": {
            "text/plain": [
              "Predictions  0   1   2\n",
              "Actual                \n",
              "0            5   0   0\n",
              "1            2  29   4\n",
              "2            0  11  20"
            ],
            "text/html": [
              "\n",
              "  <div id=\"df-1113ce14-6a59-44dc-aa0f-b2679b67c17b\">\n",
              "    <div class=\"colab-df-container\">\n",
              "      <div>\n",
              "<style scoped>\n",
              "    .dataframe tbody tr th:only-of-type {\n",
              "        vertical-align: middle;\n",
              "    }\n",
              "\n",
              "    .dataframe tbody tr th {\n",
              "        vertical-align: top;\n",
              "    }\n",
              "\n",
              "    .dataframe thead th {\n",
              "        text-align: right;\n",
              "    }\n",
              "</style>\n",
              "<table border=\"1\" class=\"dataframe\">\n",
              "  <thead>\n",
              "    <tr style=\"text-align: right;\">\n",
              "      <th>Predictions</th>\n",
              "      <th>0</th>\n",
              "      <th>1</th>\n",
              "      <th>2</th>\n",
              "    </tr>\n",
              "    <tr>\n",
              "      <th>Actual</th>\n",
              "      <th></th>\n",
              "      <th></th>\n",
              "      <th></th>\n",
              "    </tr>\n",
              "  </thead>\n",
              "  <tbody>\n",
              "    <tr>\n",
              "      <th>0</th>\n",
              "      <td>5</td>\n",
              "      <td>0</td>\n",
              "      <td>0</td>\n",
              "    </tr>\n",
              "    <tr>\n",
              "      <th>1</th>\n",
              "      <td>2</td>\n",
              "      <td>29</td>\n",
              "      <td>4</td>\n",
              "    </tr>\n",
              "    <tr>\n",
              "      <th>2</th>\n",
              "      <td>0</td>\n",
              "      <td>11</td>\n",
              "      <td>20</td>\n",
              "    </tr>\n",
              "  </tbody>\n",
              "</table>\n",
              "</div>\n",
              "      <button class=\"colab-df-convert\" onclick=\"convertToInteractive('df-1113ce14-6a59-44dc-aa0f-b2679b67c17b')\"\n",
              "              title=\"Convert this dataframe to an interactive table.\"\n",
              "              style=\"display:none;\">\n",
              "        \n",
              "  <svg xmlns=\"http://www.w3.org/2000/svg\" height=\"24px\"viewBox=\"0 0 24 24\"\n",
              "       width=\"24px\">\n",
              "    <path d=\"M0 0h24v24H0V0z\" fill=\"none\"/>\n",
              "    <path d=\"M18.56 5.44l.94 2.06.94-2.06 2.06-.94-2.06-.94-.94-2.06-.94 2.06-2.06.94zm-11 1L8.5 8.5l.94-2.06 2.06-.94-2.06-.94L8.5 2.5l-.94 2.06-2.06.94zm10 10l.94 2.06.94-2.06 2.06-.94-2.06-.94-.94-2.06-.94 2.06-2.06.94z\"/><path d=\"M17.41 7.96l-1.37-1.37c-.4-.4-.92-.59-1.43-.59-.52 0-1.04.2-1.43.59L10.3 9.45l-7.72 7.72c-.78.78-.78 2.05 0 2.83L4 21.41c.39.39.9.59 1.41.59.51 0 1.02-.2 1.41-.59l7.78-7.78 2.81-2.81c.8-.78.8-2.07 0-2.86zM5.41 20L4 18.59l7.72-7.72 1.47 1.35L5.41 20z\"/>\n",
              "  </svg>\n",
              "      </button>\n",
              "      \n",
              "  <style>\n",
              "    .colab-df-container {\n",
              "      display:flex;\n",
              "      flex-wrap:wrap;\n",
              "      gap: 12px;\n",
              "    }\n",
              "\n",
              "    .colab-df-convert {\n",
              "      background-color: #E8F0FE;\n",
              "      border: none;\n",
              "      border-radius: 50%;\n",
              "      cursor: pointer;\n",
              "      display: none;\n",
              "      fill: #1967D2;\n",
              "      height: 32px;\n",
              "      padding: 0 0 0 0;\n",
              "      width: 32px;\n",
              "    }\n",
              "\n",
              "    .colab-df-convert:hover {\n",
              "      background-color: #E2EBFA;\n",
              "      box-shadow: 0px 1px 2px rgba(60, 64, 67, 0.3), 0px 1px 3px 1px rgba(60, 64, 67, 0.15);\n",
              "      fill: #174EA6;\n",
              "    }\n",
              "\n",
              "    [theme=dark] .colab-df-convert {\n",
              "      background-color: #3B4455;\n",
              "      fill: #D2E3FC;\n",
              "    }\n",
              "\n",
              "    [theme=dark] .colab-df-convert:hover {\n",
              "      background-color: #434B5C;\n",
              "      box-shadow: 0px 1px 3px 1px rgba(0, 0, 0, 0.15);\n",
              "      filter: drop-shadow(0px 1px 2px rgba(0, 0, 0, 0.3));\n",
              "      fill: #FFFFFF;\n",
              "    }\n",
              "  </style>\n",
              "\n",
              "      <script>\n",
              "        const buttonEl =\n",
              "          document.querySelector('#df-1113ce14-6a59-44dc-aa0f-b2679b67c17b button.colab-df-convert');\n",
              "        buttonEl.style.display =\n",
              "          google.colab.kernel.accessAllowed ? 'block' : 'none';\n",
              "\n",
              "        async function convertToInteractive(key) {\n",
              "          const element = document.querySelector('#df-1113ce14-6a59-44dc-aa0f-b2679b67c17b');\n",
              "          const dataTable =\n",
              "            await google.colab.kernel.invokeFunction('convertToInteractive',\n",
              "                                                     [key], {});\n",
              "          if (!dataTable) return;\n",
              "\n",
              "          const docLinkHtml = 'Like what you see? Visit the ' +\n",
              "            '<a target=\"_blank\" href=https://colab.research.google.com/notebooks/data_table.ipynb>data table notebook</a>'\n",
              "            + ' to learn more about interactive tables.';\n",
              "          element.innerHTML = '';\n",
              "          dataTable['output_type'] = 'display_data';\n",
              "          await google.colab.output.renderOutput(dataTable, element);\n",
              "          const docLink = document.createElement('div');\n",
              "          docLink.innerHTML = docLinkHtml;\n",
              "          element.appendChild(docLink);\n",
              "        }\n",
              "      </script>\n",
              "    </div>\n",
              "  </div>\n",
              "  "
            ]
          },
          "metadata": {},
          "execution_count": 67
        }
      ]
    },
    {
      "cell_type": "code",
      "source": [
        "pred_train = knn.predict(X_train)\n",
        "print(accuracy_score(Y_train, pred_train))"
      ],
      "metadata": {
        "colab": {
          "base_uri": "https://localhost:8080/"
        },
        "id": "Cu3F2VSpSElK",
        "outputId": "008c90eb-a1a5-46e4-d24f-345f16e65dd6"
      },
      "execution_count": 68,
      "outputs": [
        {
          "output_type": "stream",
          "name": "stdout",
          "text": [
            "0.7915194346289752\n"
          ]
        }
      ]
    },
    {
      "cell_type": "code",
      "source": [
        "pd.crosstab(Y_train, pred_train, rownames=['Actual'], colnames = ['Predictions']) \n"
      ],
      "metadata": {
        "colab": {
          "base_uri": "https://localhost:8080/",
          "height": 175
        },
        "id": "AZX9k5GESVjs",
        "outputId": "e05b0232-6e30-4c37-9df9-b2e5027e7ee7"
      },
      "execution_count": 69,
      "outputs": [
        {
          "output_type": "execute_result",
          "data": {
            "text/plain": [
              "Predictions   0    1   2\n",
              "Actual                  \n",
              "0            23    1   0\n",
              "1             8  116  16\n",
              "2             5   29  85"
            ],
            "text/html": [
              "\n",
              "  <div id=\"df-1c3dd574-184b-4527-827d-b7ccb7ca65ea\">\n",
              "    <div class=\"colab-df-container\">\n",
              "      <div>\n",
              "<style scoped>\n",
              "    .dataframe tbody tr th:only-of-type {\n",
              "        vertical-align: middle;\n",
              "    }\n",
              "\n",
              "    .dataframe tbody tr th {\n",
              "        vertical-align: top;\n",
              "    }\n",
              "\n",
              "    .dataframe thead th {\n",
              "        text-align: right;\n",
              "    }\n",
              "</style>\n",
              "<table border=\"1\" class=\"dataframe\">\n",
              "  <thead>\n",
              "    <tr style=\"text-align: right;\">\n",
              "      <th>Predictions</th>\n",
              "      <th>0</th>\n",
              "      <th>1</th>\n",
              "      <th>2</th>\n",
              "    </tr>\n",
              "    <tr>\n",
              "      <th>Actual</th>\n",
              "      <th></th>\n",
              "      <th></th>\n",
              "      <th></th>\n",
              "    </tr>\n",
              "  </thead>\n",
              "  <tbody>\n",
              "    <tr>\n",
              "      <th>0</th>\n",
              "      <td>23</td>\n",
              "      <td>1</td>\n",
              "      <td>0</td>\n",
              "    </tr>\n",
              "    <tr>\n",
              "      <th>1</th>\n",
              "      <td>8</td>\n",
              "      <td>116</td>\n",
              "      <td>16</td>\n",
              "    </tr>\n",
              "    <tr>\n",
              "      <th>2</th>\n",
              "      <td>5</td>\n",
              "      <td>29</td>\n",
              "      <td>85</td>\n",
              "    </tr>\n",
              "  </tbody>\n",
              "</table>\n",
              "</div>\n",
              "      <button class=\"colab-df-convert\" onclick=\"convertToInteractive('df-1c3dd574-184b-4527-827d-b7ccb7ca65ea')\"\n",
              "              title=\"Convert this dataframe to an interactive table.\"\n",
              "              style=\"display:none;\">\n",
              "        \n",
              "  <svg xmlns=\"http://www.w3.org/2000/svg\" height=\"24px\"viewBox=\"0 0 24 24\"\n",
              "       width=\"24px\">\n",
              "    <path d=\"M0 0h24v24H0V0z\" fill=\"none\"/>\n",
              "    <path d=\"M18.56 5.44l.94 2.06.94-2.06 2.06-.94-2.06-.94-.94-2.06-.94 2.06-2.06.94zm-11 1L8.5 8.5l.94-2.06 2.06-.94-2.06-.94L8.5 2.5l-.94 2.06-2.06.94zm10 10l.94 2.06.94-2.06 2.06-.94-2.06-.94-.94-2.06-.94 2.06-2.06.94z\"/><path d=\"M17.41 7.96l-1.37-1.37c-.4-.4-.92-.59-1.43-.59-.52 0-1.04.2-1.43.59L10.3 9.45l-7.72 7.72c-.78.78-.78 2.05 0 2.83L4 21.41c.39.39.9.59 1.41.59.51 0 1.02-.2 1.41-.59l7.78-7.78 2.81-2.81c.8-.78.8-2.07 0-2.86zM5.41 20L4 18.59l7.72-7.72 1.47 1.35L5.41 20z\"/>\n",
              "  </svg>\n",
              "      </button>\n",
              "      \n",
              "  <style>\n",
              "    .colab-df-container {\n",
              "      display:flex;\n",
              "      flex-wrap:wrap;\n",
              "      gap: 12px;\n",
              "    }\n",
              "\n",
              "    .colab-df-convert {\n",
              "      background-color: #E8F0FE;\n",
              "      border: none;\n",
              "      border-radius: 50%;\n",
              "      cursor: pointer;\n",
              "      display: none;\n",
              "      fill: #1967D2;\n",
              "      height: 32px;\n",
              "      padding: 0 0 0 0;\n",
              "      width: 32px;\n",
              "    }\n",
              "\n",
              "    .colab-df-convert:hover {\n",
              "      background-color: #E2EBFA;\n",
              "      box-shadow: 0px 1px 2px rgba(60, 64, 67, 0.3), 0px 1px 3px 1px rgba(60, 64, 67, 0.15);\n",
              "      fill: #174EA6;\n",
              "    }\n",
              "\n",
              "    [theme=dark] .colab-df-convert {\n",
              "      background-color: #3B4455;\n",
              "      fill: #D2E3FC;\n",
              "    }\n",
              "\n",
              "    [theme=dark] .colab-df-convert:hover {\n",
              "      background-color: #434B5C;\n",
              "      box-shadow: 0px 1px 3px 1px rgba(0, 0, 0, 0.15);\n",
              "      filter: drop-shadow(0px 1px 2px rgba(0, 0, 0, 0.3));\n",
              "      fill: #FFFFFF;\n",
              "    }\n",
              "  </style>\n",
              "\n",
              "      <script>\n",
              "        const buttonEl =\n",
              "          document.querySelector('#df-1c3dd574-184b-4527-827d-b7ccb7ca65ea button.colab-df-convert');\n",
              "        buttonEl.style.display =\n",
              "          google.colab.kernel.accessAllowed ? 'block' : 'none';\n",
              "\n",
              "        async function convertToInteractive(key) {\n",
              "          const element = document.querySelector('#df-1c3dd574-184b-4527-827d-b7ccb7ca65ea');\n",
              "          const dataTable =\n",
              "            await google.colab.kernel.invokeFunction('convertToInteractive',\n",
              "                                                     [key], {});\n",
              "          if (!dataTable) return;\n",
              "\n",
              "          const docLinkHtml = 'Like what you see? Visit the ' +\n",
              "            '<a target=\"_blank\" href=https://colab.research.google.com/notebooks/data_table.ipynb>data table notebook</a>'\n",
              "            + ' to learn more about interactive tables.';\n",
              "          element.innerHTML = '';\n",
              "          dataTable['output_type'] = 'display_data';\n",
              "          await google.colab.output.renderOutput(dataTable, element);\n",
              "          const docLink = document.createElement('div');\n",
              "          docLink.innerHTML = docLinkHtml;\n",
              "          element.appendChild(docLink);\n",
              "        }\n",
              "      </script>\n",
              "    </div>\n",
              "  </div>\n",
              "  "
            ]
          },
          "metadata": {},
          "execution_count": 69
        }
      ]
    },
    {
      "cell_type": "code",
      "source": [
        "acc = []\n",
        "for i in range(1, 50, 2):\n",
        "    neigh = KNeighborsClassifier(n_neighbors = i)\n",
        "    neigh.fit(X_train, Y_train)\n",
        "    train_acc = np.mean(neigh.predict(X_train) == Y_train)\n",
        "    test_acc = np.mean(neigh.predict(X_test) == Y_test)\n",
        "    acc.append([train_acc, test_acc])"
      ],
      "metadata": {
        "id": "QizR9PpeSXEJ"
      },
      "execution_count": 70,
      "outputs": []
    },
    {
      "cell_type": "markdown",
      "source": [
        "### Ensemble techniques using boosting methods ######"
      ],
      "metadata": {
        "id": "jqGjNG84SlLD"
      }
    },
    {
      "cell_type": "code",
      "source": [
        "drop_elements = ['Noise Detection','Heart Beat(BPM)','Temperature','Site','Bp per Minute','Working Hours','Total Working Hours','Remaining Working Hours','Infrared Sensor','Daily wages','Gas Sensor']"
      ],
      "metadata": {
        "id": "J_v228gWSfez"
      },
      "execution_count": 71,
      "outputs": []
    },
    {
      "cell_type": "code",
      "source": [
        "X = Employee_data.drop(drop_elements, axis=1)"
      ],
      "metadata": {
        "id": "EA8LPtrvSrAZ"
      },
      "execution_count": 72,
      "outputs": []
    },
    {
      "cell_type": "code",
      "source": [
        "y = Employee_data['Productivity']"
      ],
      "metadata": {
        "id": "rudF9sM0TAVT"
      },
      "execution_count": 73,
      "outputs": []
    },
    {
      "cell_type": "code",
      "source": [
        "from sklearn.model_selection import train_test_split\n",
        "X_train, X_test, y_train, y_test = train_test_split(X, y, test_size=0.25, random_state=0)"
      ],
      "metadata": {
        "id": "YVr8tbl8THEv"
      },
      "execution_count": 74,
      "outputs": []
    },
    {
      "cell_type": "code",
      "source": [
        "from sklearn.ensemble import AdaBoostClassifier"
      ],
      "metadata": {
        "id": "Aw22eH_YTKPM"
      },
      "execution_count": 75,
      "outputs": []
    },
    {
      "cell_type": "code",
      "source": [
        "\n",
        "ada_clf = AdaBoostClassifier(learning_rate = 0.02, n_estimators = 5000)"
      ],
      "metadata": {
        "id": "hhVx0DbZTKIm"
      },
      "execution_count": 76,
      "outputs": []
    },
    {
      "cell_type": "code",
      "source": [
        "ada_clf.fit(X_train, y_train)\n",
        "\n",
        "from sklearn.metrics import accuracy_score, confusion_matrix\n"
      ],
      "metadata": {
        "id": "ITlINK7GTQjI"
      },
      "execution_count": 77,
      "outputs": []
    },
    {
      "cell_type": "code",
      "source": [
        "# Evaluation on Testing Data\n",
        "confusion_matrix(y_test, ada_clf.predict(X_test))\n",
        "accuracy_score(y_test, ada_clf.predict(X_test))"
      ],
      "metadata": {
        "colab": {
          "base_uri": "https://localhost:8080/"
        },
        "id": "t0zDvrv2TUcf",
        "outputId": "e7ddb90a-f484-48fa-a5f1-3764b72a1a60"
      },
      "execution_count": 78,
      "outputs": [
        {
          "output_type": "execute_result",
          "data": {
            "text/plain": [
              "1.0"
            ]
          },
          "metadata": {},
          "execution_count": 78
        }
      ]
    },
    {
      "cell_type": "code",
      "source": [
        "# Evaluation on Training Data\n",
        "accuracy_score(y_train, ada_clf.predict(X_train))"
      ],
      "metadata": {
        "colab": {
          "base_uri": "https://localhost:8080/"
        },
        "id": "nbx_MGXwTYFl",
        "outputId": "b9037a85-bba1-479a-bbfb-55a3eb33346d"
      },
      "execution_count": 79,
      "outputs": [
        {
          "output_type": "execute_result",
          "data": {
            "text/plain": [
              "1.0"
            ]
          },
          "metadata": {},
          "execution_count": 79
        }
      ]
    },
    {
      "cell_type": "markdown",
      "source": [
        "**SVM**\n"
      ],
      "metadata": {
        "id": "jg6-2HDXaghP"
      }
    },
    {
      "cell_type": "code",
      "source": [
        "from sklearn import svm"
      ],
      "metadata": {
        "id": "OF2TdV27a4HE"
      },
      "execution_count": 80,
      "outputs": []
    },
    {
      "cell_type": "code",
      "source": [
        "train, test = train_test_split(Employee_data, test_size = 325)\n"
      ],
      "metadata": {
        "id": "xyU2bQd4a7Uw"
      },
      "execution_count": 81,
      "outputs": []
    },
    {
      "cell_type": "code",
      "source": [
        "X_train, X_test, Y_train, Y_test = train_test_split(X,Y, test_size = 0.2, stratify=Y, random_state=2)\n"
      ],
      "metadata": {
        "id": "KDQIQqGva90i"
      },
      "execution_count": 82,
      "outputs": []
    },
    {
      "cell_type": "code",
      "source": [
        "print(X.shape, X_train.shape, X_test.shape)\n"
      ],
      "metadata": {
        "colab": {
          "base_uri": "https://localhost:8080/"
        },
        "id": "qzphfo6RbAxs",
        "outputId": "91520701-1c99-4e74-e07e-6b641d76722e"
      },
      "execution_count": 83,
      "outputs": [
        {
          "output_type": "stream",
          "name": "stdout",
          "text": [
            "(354, 7) (283, 7) (71, 7)\n"
          ]
        }
      ]
    },
    {
      "cell_type": "code",
      "source": [
        "model.fit(X_train, Y_train)\n"
      ],
      "metadata": {
        "colab": {
          "base_uri": "https://localhost:8080/"
        },
        "id": "eVCLOEeObCbk",
        "outputId": "dd637a28-61ea-47c1-edda-2fb1b9d56066"
      },
      "execution_count": 85,
      "outputs": [
        {
          "output_type": "execute_result",
          "data": {
            "text/plain": [
              "DecisionTreeClassifier(criterion='entropy')"
            ]
          },
          "metadata": {},
          "execution_count": 85
        }
      ]
    },
    {
      "cell_type": "markdown",
      "source": [
        "# accuracy score on the train data\n"
      ],
      "metadata": {
        "id": "HNrqkvLsbFcS"
      }
    },
    {
      "cell_type": "code",
      "source": [
        "X_train_prediction = model.predict(X_train)\n",
        "train_data_accuracy = accuracy_score(X_train_prediction, Y_train)"
      ],
      "metadata": {
        "id": "gepM_oXnbE8p"
      },
      "execution_count": 96,
      "outputs": []
    },
    {
      "cell_type": "code",
      "source": [
        "print('Accuracy score of the train data : ', train_data_accuracy)\n"
      ],
      "metadata": {
        "id": "KzneeOZBbJDX",
        "colab": {
          "base_uri": "https://localhost:8080/"
        },
        "outputId": "ee538cd8-dd7d-4f88-8e0e-f73333e807ae"
      },
      "execution_count": 97,
      "outputs": [
        {
          "output_type": "stream",
          "name": "stdout",
          "text": [
            "Accuracy score of the train data :  1.0\n"
          ]
        }
      ]
    },
    {
      "cell_type": "markdown",
      "source": [
        "# accuracy score on the test data\n"
      ],
      "metadata": {
        "id": "-GIe7QfAbSRF"
      }
    },
    {
      "cell_type": "code",
      "source": [
        "X_test_prediction = model.predict(X_test)\n",
        "test_data_accuracy = accuracy_score(X_test_prediction, Y_test)\n"
      ],
      "metadata": {
        "id": "-btH0-l2bQlC"
      },
      "execution_count": 91,
      "outputs": []
    },
    {
      "cell_type": "code",
      "source": [
        "print('Accuracy score of the test data : ', test_data_accuracy)"
      ],
      "metadata": {
        "id": "FTdt_P_xbYRS",
        "colab": {
          "base_uri": "https://localhost:8080/"
        },
        "outputId": "38bbf452-34ec-431d-8d58-1c61d93204ff"
      },
      "execution_count": 92,
      "outputs": [
        {
          "output_type": "stream",
          "name": "stdout",
          "text": [
            "Accuracy score of the test data :  1.0\n"
          ]
        }
      ]
    },
    {
      "cell_type": "markdown",
      "source": [
        "importing test model"
      ],
      "metadata": {
        "id": "8u47Bxpxbd03"
      }
    },
    {
      "cell_type": "markdown",
      "source": [
        "train"
      ],
      "metadata": {
        "id": "Du0TVjg2faWY"
      }
    },
    {
      "cell_type": "code",
      "source": [
        "import pickle"
      ],
      "metadata": {
        "id": "rkjYD5r6aXyA"
      },
      "execution_count": 98,
      "outputs": []
    },
    {
      "cell_type": "code",
      "source": [
        "filename = 'Employee_model.pkl'\n",
        "pickle.dump(model, open(filename, 'wb'))"
      ],
      "metadata": {
        "id": "SnnNf05AOJGz"
      },
      "execution_count": 99,
      "outputs": []
    },
    {
      "cell_type": "code",
      "source": [
        "# loading the saved model\n",
        "loaded_models = pickle.load(open('Employee_model.pkl', 'rb'))"
      ],
      "metadata": {
        "id": "LUlkQ6HPNwxg"
      },
      "execution_count": 100,
      "outputs": []
    },
    {
      "cell_type": "code",
      "source": [
        "for column in X.columns:\n",
        "  print(column)"
      ],
      "metadata": {
        "id": "jDhw_gblOiwY",
        "colab": {
          "base_uri": "https://localhost:8080/"
        },
        "outputId": "f9bb2999-9db7-457c-fcc5-656ae42eccaa"
      },
      "execution_count": 101,
      "outputs": [
        {
          "output_type": "stream",
          "name": "stdout",
          "text": [
            " EMP_ID\n",
            "Age\n",
            "Gender\n",
            "Scope of Work \n",
            "Skill of employee\n",
            "Experience(Years)\n",
            "Productivity\n"
          ]
        }
      ]
    }
  ]
}